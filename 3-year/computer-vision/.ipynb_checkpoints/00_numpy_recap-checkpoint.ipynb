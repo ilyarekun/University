{
 "cells": [
  {
   "cell_type": "markdown",
   "metadata": {
    "collapsed": false,
    "id": "GOjLMtf9DY0O",
    "jupyter": {
     "outputs_hidden": false
    }
   },
   "source": [
    "# Computer Vision - Week_00 - numpy recap\n",
    "\n",
    "NumPy stands for Numerical Python. It is a Python library that provides support for large, multi-dimensional arrays and matrices, along with a range of mathematical functions to operate on these arrays.\n",
    "\n",
    "NumPy is widely used in scientific computing, data analysis, and machine learning. It provides efficient storage and manipulation of large arrays of numerical data, making it easier to work with data in a variety of formats.\n",
    "\n",
    "# Python common data structures"
   ]
  },
  {
   "cell_type": "code",
   "execution_count": 1,
   "metadata": {
    "ExecuteTime": {
     "end_time": "2023-09-25T08:51:20.710627Z",
     "start_time": "2023-09-25T08:51:20.700299Z"
    },
    "colab": {
     "base_uri": "https://localhost:8080/"
    },
    "collapsed": false,
    "executionInfo": {
     "elapsed": 292,
     "status": "ok",
     "timestamp": 1732536247922,
     "user": {
      "displayName": "ILYA REKUN",
      "userId": "11229790335325589174"
     },
     "user_tz": -60
    },
    "id": "1pwLDcs7DY0R",
    "jupyter": {
     "outputs_hidden": false
    },
    "outputId": "5e5fdb1b-5395-4347-d3e8-4e2c644bce97"
   },
   "outputs": [
    {
     "data": {
      "text/plain": [
       "[5, 2345, 8]"
      ]
     },
     "execution_count": 1,
     "metadata": {},
     "output_type": "execute_result"
    }
   ],
   "source": [
    "my_list = [5,2345,8]\n",
    "my_list"
   ]
  },
  {
   "cell_type": "code",
   "execution_count": 2,
   "metadata": {
    "colab": {
     "base_uri": "https://localhost:8080/"
    },
    "collapsed": false,
    "executionInfo": {
     "elapsed": 276,
     "status": "ok",
     "timestamp": 1732536255100,
     "user": {
      "displayName": "ILYA REKUN",
      "userId": "11229790335325589174"
     },
     "user_tz": -60
    },
    "id": "Rz7FYi5FDY0S",
    "jupyter": {
     "outputs_hidden": false
    },
    "outputId": "5e22b081-62d0-4f8f-d37d-e1b513761692"
   },
   "outputs": [
    {
     "data": {
      "text/plain": [
       "list"
      ]
     },
     "execution_count": 2,
     "metadata": {},
     "output_type": "execute_result"
    }
   ],
   "source": [
    "type(my_list)"
   ]
  },
  {
   "cell_type": "code",
   "execution_count": 3,
   "metadata": {
    "colab": {
     "base_uri": "https://localhost:8080/"
    },
    "collapsed": false,
    "executionInfo": {
     "elapsed": 324,
     "status": "ok",
     "timestamp": 1732536258500,
     "user": {
      "displayName": "ILYA REKUN",
      "userId": "11229790335325589174"
     },
     "user_tz": -60
    },
    "id": "Qgdr4nEBDY0S",
    "jupyter": {
     "outputs_hidden": false
    },
    "outputId": "60f0d116-f6c8-47d2-aa34-0b22ed83e186"
   },
   "outputs": [
    {
     "data": {
      "text/plain": [
       "3"
      ]
     },
     "execution_count": 3,
     "metadata": {},
     "output_type": "execute_result"
    }
   ],
   "source": [
    "len(my_list)"
   ]
  },
  {
   "cell_type": "code",
   "execution_count": 4,
   "metadata": {
    "colab": {
     "base_uri": "https://localhost:8080/"
    },
    "collapsed": false,
    "executionInfo": {
     "elapsed": 363,
     "status": "ok",
     "timestamp": 1732536264389,
     "user": {
      "displayName": "ILYA REKUN",
      "userId": "11229790335325589174"
     },
     "user_tz": -60
    },
    "id": "hG0rBOBZDY0S",
    "jupyter": {
     "outputs_hidden": false
    },
    "outputId": "cbdf4456-9587-4911-dcca-abb53071d3c1"
   },
   "outputs": [
    {
     "data": {
      "text/plain": [
       "{5, 8, 2345}"
      ]
     },
     "execution_count": 4,
     "metadata": {},
     "output_type": "execute_result"
    }
   ],
   "source": [
    "new_set = set(my_list)\n",
    "new_set"
   ]
  },
  {
   "cell_type": "code",
   "execution_count": null,
   "metadata": {
    "collapsed": false,
    "id": "bXprQXtCDY0S",
    "jupyter": {
     "outputs_hidden": false
    }
   },
   "outputs": [],
   "source": [
    "data = {\"my_value\" : 35,\n",
    " \"my_age\": 2345,\n",
    " \"my_school\": 324536}\n",
    "\n",
    "your_data = {\"my_value\" : 35,\n",
    "        \"my_age\": 234546,\n",
    "        \"my_school\": 'TULE'}"
   ]
  },
  {
   "cell_type": "code",
   "execution_count": null,
   "metadata": {
    "collapsed": false,
    "id": "LS0zga7NDY0T",
    "jupyter": {
     "outputs_hidden": false
    }
   },
   "outputs": [],
   "source": [
    "database = [data, data.copy() ,data.copy(), your_data]"
   ]
  },
  {
   "cell_type": "code",
   "execution_count": null,
   "metadata": {
    "collapsed": false,
    "id": "EG7d-0DcDY0T",
    "jupyter": {
     "outputs_hidden": false
    }
   },
   "outputs": [],
   "source": [
    "database[0][\"my_age\"] = 999999"
   ]
  },
  {
   "cell_type": "code",
   "execution_count": null,
   "metadata": {
    "colab": {
     "base_uri": "https://localhost:8080/"
    },
    "collapsed": false,
    "executionInfo": {
     "elapsed": 91,
     "status": "ok",
     "timestamp": 1727165335333,
     "user": {
      "displayName": "ILYA REKUN",
      "userId": "11229790335325589174"
     },
     "user_tz": -120
    },
    "id": "leLfKaQ3DY0T",
    "jupyter": {
     "outputs_hidden": false
    },
    "outputId": "5678987b-478f-4318-e8b6-37d0260029c7"
   },
   "outputs": [
    {
     "data": {
      "text/plain": [
       "[{'my_value': 35, 'my_age': 999999, 'my_school': 324536},\n",
       " {'my_value': 35, 'my_age': 2345, 'my_school': 324536},\n",
       " {'my_value': 35, 'my_age': 2345, 'my_school': 324536},\n",
       " {'my_value': 35, 'my_age': 234546, 'my_school': 'TULE'}]"
      ]
     },
     "execution_count": 9,
     "metadata": {},
     "output_type": "execute_result"
    }
   ],
   "source": [
    "database"
   ]
  },
  {
   "cell_type": "markdown",
   "metadata": {
    "collapsed": false,
    "id": "vbKa7a2KDY0U",
    "jupyter": {
     "outputs_hidden": false
    }
   },
   "source": [
    "# 1. Numpy and matrix operation\n",
    "\n",
    "## INFO: Math entities\n",
    "Scalars, vectors, matrices, and multidimensional matrices are all mathematical concepts that are used in different fields, including linear algebra, physics, and computer science.\n",
    "\n",
    "**A scalar** is a single number, such as 1, 2.5, or -3. It has no direction or orientation and can be represented by a single value.\n",
    "\n",
    "**A vector** is an array of numbers arranged in a specific order. It has magnitude (length) and direction and can be represented graphically as an arrow. In two dimensions, a vector can be represented by a pair of numbers (x, y), while in three dimensions, it can be represented by a triplet of numbers (x, y, z).\n",
    "\n",
    "**A matrix** is a rectangular array of numbers arranged in rows and columns. It can be represented by a two-dimensional array, where each element of the array represents a single value in the matrix.\n",
    "\n",
    "**A multidimensional matrix** is a matrix with more than two dimensions. It can be represented as an array of arrays, where each element in the array is itself an array representing a lower-dimensional matrix."
   ]
  },
  {
   "cell_type": "code",
   "execution_count": null,
   "metadata": {
    "ExecuteTime": {
     "end_time": "2023-09-25T08:52:18.675580Z",
     "start_time": "2023-09-25T08:52:18.516252Z"
    },
    "id": "FnaabNlkDY0U"
   },
   "outputs": [],
   "source": [
    "import numpy as np\n",
    "import math"
   ]
  },
  {
   "cell_type": "markdown",
   "metadata": {
    "id": "DStygC2XDY0U"
   },
   "source": [
    "## 1.1 Creation of matrix (manual)"
   ]
  },
  {
   "cell_type": "code",
   "execution_count": null,
   "metadata": {
    "ExecuteTime": {
     "end_time": "2023-09-25T08:52:19.873136Z",
     "start_time": "2023-09-25T08:52:19.856712Z"
    },
    "colab": {
     "base_uri": "https://localhost:8080/"
    },
    "collapsed": false,
    "executionInfo": {
     "elapsed": 89,
     "status": "ok",
     "timestamp": 1727165335333,
     "user": {
      "displayName": "ILYA REKUN",
      "userId": "11229790335325589174"
     },
     "user_tz": -120
    },
    "id": "_EKdGtR1DY0U",
    "jupyter": {
     "outputs_hidden": false
    },
    "outputId": "1eb707b9-925e-4b0a-ce68-02a1dbb79aef"
   },
   "outputs": [
    {
     "data": {
      "text/plain": [
       "[]"
      ]
     },
     "execution_count": 11,
     "metadata": {},
     "output_type": "execute_result"
    }
   ],
   "source": [
    "[]"
   ]
  },
  {
   "cell_type": "markdown",
   "metadata": {
    "id": "v_5C9nYJDY0U"
   },
   "source": [
    "Creating an empty matrix:"
   ]
  },
  {
   "cell_type": "code",
   "execution_count": null,
   "metadata": {
    "ExecuteTime": {
     "end_time": "2023-09-25T08:52:20.199602Z",
     "start_time": "2023-09-25T08:52:20.184353Z"
    },
    "colab": {
     "base_uri": "https://localhost:8080/"
    },
    "executionInfo": {
     "elapsed": 87,
     "status": "ok",
     "timestamp": 1727165335333,
     "user": {
      "displayName": "ILYA REKUN",
      "userId": "11229790335325589174"
     },
     "user_tz": -120
    },
    "id": "XsnihJ1fDY0V",
    "outputId": "8041ba67-aa09-48e9-8d0d-ec2ebd8fbe70"
   },
   "outputs": [
    {
     "data": {
      "text/plain": [
       "array([], dtype=float64)"
      ]
     },
     "execution_count": 12,
     "metadata": {},
     "output_type": "execute_result"
    }
   ],
   "source": [
    "v_empty = np.array([])\n",
    "v_empty"
   ]
  },
  {
   "cell_type": "markdown",
   "metadata": {
    "id": "O7chEAItDY0V"
   },
   "source": [
    "Row vector / Riadkovy vektor / 1D:  [1 2 3 4]"
   ]
  },
  {
   "cell_type": "code",
   "execution_count": null,
   "metadata": {
    "ExecuteTime": {
     "end_time": "2023-09-25T08:52:21.980154Z",
     "start_time": "2023-09-25T08:52:21.945868Z"
    },
    "colab": {
     "base_uri": "https://localhost:8080/"
    },
    "executionInfo": {
     "elapsed": 85,
     "status": "ok",
     "timestamp": 1727165335333,
     "user": {
      "displayName": "ILYA REKUN",
      "userId": "11229790335325589174"
     },
     "user_tz": -120
    },
    "id": "9Al82CV0DY0V",
    "outputId": "c61a51ee-61da-43b2-c378-f263c80743fc"
   },
   "outputs": [
    {
     "data": {
      "text/plain": [
       "(4,)"
      ]
     },
     "execution_count": 13,
     "metadata": {},
     "output_type": "execute_result"
    }
   ],
   "source": [
    "v_row = np.array([1, 2, 3, 4])\n",
    "# v_row = np.array([[1], [2], [3], [4]])\n",
    "v_row.shape"
   ]
  },
  {
   "cell_type": "markdown",
   "metadata": {
    "id": "p_DZ2rkHDY0V"
   },
   "source": [
    "Matrix (2D): Manually define a matrix with two (1D) row vectors [1,2] and [3,4]:"
   ]
  },
  {
   "cell_type": "code",
   "execution_count": null,
   "metadata": {
    "ExecuteTime": {
     "end_time": "2023-09-25T08:52:21.980400Z",
     "start_time": "2023-09-25T08:52:21.951759Z"
    },
    "colab": {
     "base_uri": "https://localhost:8080/"
    },
    "executionInfo": {
     "elapsed": 83,
     "status": "ok",
     "timestamp": 1727165335333,
     "user": {
      "displayName": "ILYA REKUN",
      "userId": "11229790335325589174"
     },
     "user_tz": -120
    },
    "id": "klncw2JpDY0V",
    "outputId": "7d24428a-65ee-4bd6-c6c3-e19d5225fb06"
   },
   "outputs": [
    {
     "data": {
      "text/plain": [
       "array([[1, 2],\n",
       "       [3, 4]])"
      ]
     },
     "execution_count": 14,
     "metadata": {},
     "output_type": "execute_result"
    }
   ],
   "source": [
    "A = np.array([[1, 2], [3, 4]])\n",
    "A"
   ]
  },
  {
   "cell_type": "markdown",
   "metadata": {
    "id": "XKUvQLoMDY0V"
   },
   "source": [
    "Column vector (manual) definition:"
   ]
  },
  {
   "cell_type": "code",
   "execution_count": null,
   "metadata": {
    "ExecuteTime": {
     "end_time": "2023-09-25T08:52:21.980534Z",
     "start_time": "2023-09-25T08:52:21.959329Z"
    },
    "colab": {
     "base_uri": "https://localhost:8080/"
    },
    "executionInfo": {
     "elapsed": 82,
     "status": "ok",
     "timestamp": 1727165335333,
     "user": {
      "displayName": "ILYA REKUN",
      "userId": "11229790335325589174"
     },
     "user_tz": -120
    },
    "id": "DZ_Bk_P4DY0V",
    "outputId": "0e81d062-0d1e-42bb-cf0e-7ff19dcc3920"
   },
   "outputs": [
    {
     "data": {
      "text/plain": [
       "array([[1],\n",
       "       [2],\n",
       "       [3],\n",
       "       [4]])"
      ]
     },
     "execution_count": 15,
     "metadata": {},
     "output_type": "execute_result"
    }
   ],
   "source": [
    "np.array([[1], [2], [3], [4]])"
   ]
  },
  {
   "cell_type": "markdown",
   "metadata": {
    "id": "yPBFhDqhDY0V"
   },
   "source": [
    "Getting a column vector by transposing a row vector:"
   ]
  },
  {
   "cell_type": "code",
   "execution_count": null,
   "metadata": {
    "ExecuteTime": {
     "end_time": "2023-09-25T08:52:22.211095Z",
     "start_time": "2023-09-25T08:52:21.962770Z"
    },
    "colab": {
     "base_uri": "https://localhost:8080/"
    },
    "executionInfo": {
     "elapsed": 80,
     "status": "ok",
     "timestamp": 1727165335333,
     "user": {
      "displayName": "ILYA REKUN",
      "userId": "11229790335325589174"
     },
     "user_tz": -120
    },
    "id": "FC3Arp1vDY0V",
    "outputId": "3a25fca3-0034-4c37-b561-607d9e8bfc8f"
   },
   "outputs": [
    {
     "data": {
      "text/plain": [
       "array([[1],\n",
       "       [2],\n",
       "       [3],\n",
       "       [4]])"
      ]
     },
     "execution_count": 16,
     "metadata": {},
     "output_type": "execute_result"
    }
   ],
   "source": [
    "v_column = np.array([[1, 2, 3, 4]]).T\n",
    "v_column"
   ]
  },
  {
   "cell_type": "markdown",
   "metadata": {
    "id": "Q_4-aFa0DY0V"
   },
   "source": [
    "## 1.2 Spacial initialization of matrix"
   ]
  },
  {
   "cell_type": "markdown",
   "metadata": {
    "id": "zyK8o2GFDY0V"
   },
   "source": [
    "The operation linspace returns 10 elements from 0 to 9 (linearly spaced):"
   ]
  },
  {
   "cell_type": "code",
   "execution_count": null,
   "metadata": {
    "ExecuteTime": {
     "end_time": "2023-09-25T08:52:22.304698Z",
     "start_time": "2023-09-25T08:52:21.971130Z"
    },
    "colab": {
     "base_uri": "https://localhost:8080/"
    },
    "executionInfo": {
     "elapsed": 78,
     "status": "ok",
     "timestamp": 1727165335333,
     "user": {
      "displayName": "ILYA REKUN",
      "userId": "11229790335325589174"
     },
     "user_tz": -120
    },
    "id": "_LNUH1cvDY0V",
    "outputId": "5040f0d9-34cb-40f2-fd66-0bb18fba3a0c"
   },
   "outputs": [
    {
     "name": "stdout",
     "output_type": "stream",
     "text": [
      "[0. 1. 2. 3. 4. 5. 6. 7. 8. 9.]\n"
     ]
    }
   ],
   "source": [
    "lin_spaced_vector = np.linspace(0, 9, 10)\n",
    "print(lin_spaced_vector)"
   ]
  },
  {
   "cell_type": "markdown",
   "metadata": {
    "id": "SSUofaVQDY0W"
   },
   "source": [
    "Create a (2D) matrix of zeros:"
   ]
  },
  {
   "cell_type": "code",
   "execution_count": null,
   "metadata": {
    "ExecuteTime": {
     "end_time": "2023-09-25T08:52:22.633564Z",
     "start_time": "2023-09-25T08:52:22.221318Z"
    },
    "colab": {
     "base_uri": "https://localhost:8080/"
    },
    "executionInfo": {
     "elapsed": 77,
     "status": "ok",
     "timestamp": 1727165335333,
     "user": {
      "displayName": "ILYA REKUN",
      "userId": "11229790335325589174"
     },
     "user_tz": -120
    },
    "id": "xEb1SpV0DY0W",
    "outputId": "0b3d6378-d1b1-4f58-b11a-d93b0624ccc4"
   },
   "outputs": [
    {
     "data": {
      "text/plain": [
       "array([[0., 0., 0.],\n",
       "       [0., 0., 0.],\n",
       "       [0., 0., 0.]])"
      ]
     },
     "execution_count": 18,
     "metadata": {},
     "output_type": "execute_result"
    }
   ],
   "source": [
    "mat_zeros = np.zeros((3, 3))  # tuple as input param\n",
    "mat_zeros"
   ]
  },
  {
   "cell_type": "markdown",
   "metadata": {
    "id": "r32sG4e8DY0W"
   },
   "source": [
    "Create a (3D) matrix of zeros:"
   ]
  },
  {
   "cell_type": "code",
   "execution_count": null,
   "metadata": {
    "ExecuteTime": {
     "end_time": "2023-09-25T08:52:22.678875Z",
     "start_time": "2023-09-25T08:52:22.260697Z"
    },
    "colab": {
     "base_uri": "https://localhost:8080/"
    },
    "executionInfo": {
     "elapsed": 75,
     "status": "ok",
     "timestamp": 1727165335333,
     "user": {
      "displayName": "ILYA REKUN",
      "userId": "11229790335325589174"
     },
     "user_tz": -120
    },
    "id": "2XJxhirKDY0W",
    "outputId": "fc7302ea-bc88-445c-bbda-ed9d2661265f"
   },
   "outputs": [
    {
     "data": {
      "text/plain": [
       "array([[[0., 0., 0.],\n",
       "        [0., 0., 0.],\n",
       "        [0., 0., 0.]],\n",
       "\n",
       "       [[0., 0., 0.],\n",
       "        [0., 0., 0.],\n",
       "        [0., 0., 0.]],\n",
       "\n",
       "       [[0., 0., 0.],\n",
       "        [0., 0., 0.],\n",
       "        [0., 0., 0.]]])"
      ]
     },
     "execution_count": 19,
     "metadata": {},
     "output_type": "execute_result"
    }
   ],
   "source": [
    "mat_zeros = np.zeros((3, 3, 3))  # tuple as input param\n",
    "mat_zeros"
   ]
  },
  {
   "cell_type": "markdown",
   "metadata": {
    "id": "geGL4YEjDY0W"
   },
   "source": [
    "Create a matrix of ones with the defined dimensions:"
   ]
  },
  {
   "cell_type": "code",
   "execution_count": null,
   "metadata": {
    "ExecuteTime": {
     "end_time": "2023-09-25T08:52:22.722388Z",
     "start_time": "2023-09-25T08:52:22.548767Z"
    },
    "colab": {
     "base_uri": "https://localhost:8080/"
    },
    "executionInfo": {
     "elapsed": 75,
     "status": "ok",
     "timestamp": 1727165335334,
     "user": {
      "displayName": "ILYA REKUN",
      "userId": "11229790335325589174"
     },
     "user_tz": -120
    },
    "id": "8_Z0Q4xvDY0W",
    "outputId": "3a3a8fd5-ed8c-4be3-b525-7b7a09f70fee"
   },
   "outputs": [
    {
     "data": {
      "text/plain": [
       "array([[1., 1.],\n",
       "       [1., 1.],\n",
       "       [1., 1.]])"
      ]
     },
     "execution_count": 20,
     "metadata": {},
     "output_type": "execute_result"
    }
   ],
   "source": [
    "mat_ones = np.ones((3, 2))\n",
    "mat_ones"
   ]
  },
  {
   "cell_type": "markdown",
   "metadata": {
    "id": "7M3EnqzEDY0X"
   },
   "source": [
    "Create a diagonal matrix of ones with the defined dimensions:"
   ]
  },
  {
   "cell_type": "code",
   "execution_count": null,
   "metadata": {
    "ExecuteTime": {
     "end_time": "2023-09-25T08:52:22.771990Z",
     "start_time": "2023-09-25T08:52:22.607870Z"
    },
    "colab": {
     "base_uri": "https://localhost:8080/"
    },
    "executionInfo": {
     "elapsed": 73,
     "status": "ok",
     "timestamp": 1727165335334,
     "user": {
      "displayName": "ILYA REKUN",
      "userId": "11229790335325589174"
     },
     "user_tz": -120
    },
    "id": "GSbMFFqDDY0X",
    "outputId": "b90d5528-6ea3-45e7-f378-71529eceb61f"
   },
   "outputs": [
    {
     "data": {
      "text/plain": [
       "array([[1., 0., 0., 0., 0., 0.],\n",
       "       [0., 1., 0., 0., 0., 0.],\n",
       "       [0., 0., 1., 0., 0., 0.],\n",
       "       [0., 0., 0., 1., 0., 0.],\n",
       "       [0., 0., 0., 0., 1., 0.],\n",
       "       [0., 0., 0., 0., 0., 1.]])"
      ]
     },
     "execution_count": 21,
     "metadata": {},
     "output_type": "execute_result"
    }
   ],
   "source": [
    "mat_eye = np.eye(6)\n",
    "mat_eye"
   ]
  },
  {
   "cell_type": "code",
   "execution_count": null,
   "metadata": {
    "ExecuteTime": {
     "end_time": "2023-09-25T08:52:22.812654Z",
     "start_time": "2023-09-25T08:52:22.642764Z"
    },
    "colab": {
     "base_uri": "https://localhost:8080/"
    },
    "collapsed": false,
    "executionInfo": {
     "elapsed": 72,
     "status": "ok",
     "timestamp": 1727165335334,
     "user": {
      "displayName": "ILYA REKUN",
      "userId": "11229790335325589174"
     },
     "user_tz": -120
    },
    "id": "lHwWixCWDY0X",
    "jupyter": {
     "outputs_hidden": false
    },
    "outputId": "4df77e6b-8f30-4c0f-92cb-6fac9e08a5dd"
   },
   "outputs": [
    {
     "data": {
      "text/plain": [
       "array([[8., 5., 5., 5., 5., 5.],\n",
       "       [5., 8., 5., 5., 5., 5.],\n",
       "       [5., 5., 8., 5., 5., 5.],\n",
       "       [5., 5., 5., 8., 5., 5.],\n",
       "       [5., 5., 5., 5., 8., 5.],\n",
       "       [5., 5., 5., 5., 5., 8.]])"
      ]
     },
     "execution_count": 22,
     "metadata": {},
     "output_type": "execute_result"
    }
   ],
   "source": [
    "((mat_eye * (-1) + 1) * 5) + mat_eye * 8"
   ]
  },
  {
   "cell_type": "markdown",
   "metadata": {
    "id": "iM1fYnYlDY0X"
   },
   "source": [
    "Random initialized values in matrix with the defined dimensions (float values from the range 0 to 1):"
   ]
  },
  {
   "cell_type": "code",
   "execution_count": null,
   "metadata": {
    "ExecuteTime": {
     "end_time": "2023-09-25T08:52:22.917767Z",
     "start_time": "2023-09-25T08:52:22.784334Z"
    },
    "colab": {
     "base_uri": "https://localhost:8080/"
    },
    "executionInfo": {
     "elapsed": 71,
     "status": "ok",
     "timestamp": 1727165335334,
     "user": {
      "displayName": "ILYA REKUN",
      "userId": "11229790335325589174"
     },
     "user_tz": -120
    },
    "id": "lOKie_cADY0X",
    "outputId": "90ce43fa-872b-4e48-9add-99e7d91855b1"
   },
   "outputs": [
    {
     "data": {
      "text/plain": [
       "array([[0.34972163, 0.42522889, 0.27922752],\n",
       "       [0.73720318, 0.10299923, 0.24656305]])"
      ]
     },
     "execution_count": 23,
     "metadata": {},
     "output_type": "execute_result"
    }
   ],
   "source": [
    "mat_rand = np.random.rand(2, 3)\n",
    "mat_rand"
   ]
  },
  {
   "cell_type": "markdown",
   "metadata": {
    "id": "r4NuVcYUDY0X"
   },
   "source": [
    "## 1.3 Spacial operations"
   ]
  },
  {
   "cell_type": "markdown",
   "metadata": {
    "id": "g2kS6VwtDY0X"
   },
   "source": [
    "If we want a diagonal matrix with a specific value along the diagonal:"
   ]
  },
  {
   "cell_type": "code",
   "execution_count": null,
   "metadata": {
    "ExecuteTime": {
     "end_time": "2023-09-25T08:52:23.708792Z",
     "start_time": "2023-09-25T08:52:23.066652Z"
    },
    "colab": {
     "base_uri": "https://localhost:8080/"
    },
    "executionInfo": {
     "elapsed": 70,
     "status": "ok",
     "timestamp": 1727165335334,
     "user": {
      "displayName": "ILYA REKUN",
      "userId": "11229790335325589174"
     },
     "user_tz": -120
    },
    "id": "8H-67bN8DY0b",
    "outputId": "bb0638da-4985-4538-f518-19b87fafb0c0"
   },
   "outputs": [
    {
     "data": {
      "text/plain": [
       "array([[5., 0., 0.],\n",
       "       [0., 5., 0.],\n",
       "       [0., 0., 5.]])"
      ]
     },
     "execution_count": 24,
     "metadata": {},
     "output_type": "execute_result"
    }
   ],
   "source": [
    "mat_eye = np.eye(3)*5\n",
    "mat_eye"
   ]
  },
  {
   "cell_type": "markdown",
   "metadata": {
    "id": "ow7PPJmEDY0c"
   },
   "source": [
    "To find out whether the value at a given position meets a condition:"
   ]
  },
  {
   "cell_type": "code",
   "execution_count": null,
   "metadata": {
    "ExecuteTime": {
     "end_time": "2023-09-25T08:52:24.038629Z",
     "start_time": "2023-09-25T08:52:23.210872Z"
    },
    "colab": {
     "base_uri": "https://localhost:8080/"
    },
    "collapsed": false,
    "executionInfo": {
     "elapsed": 69,
     "status": "ok",
     "timestamp": 1727165335334,
     "user": {
      "displayName": "ILYA REKUN",
      "userId": "11229790335325589174"
     },
     "user_tz": -120
    },
    "id": "p_qIGffBDY0c",
    "jupyter": {
     "outputs_hidden": false
    },
    "outputId": "e62d50f9-1198-4275-8c38-1db12b1b3265"
   },
   "outputs": [
    {
     "data": {
      "text/plain": [
       "array([[False,  True,  True],\n",
       "       [ True, False,  True],\n",
       "       [ True,  True, False]])"
      ]
     },
     "execution_count": 25,
     "metadata": {},
     "output_type": "execute_result"
    }
   ],
   "source": [
    "mat_eye == 0"
   ]
  },
  {
   "cell_type": "markdown",
   "metadata": {
    "id": "otia7WSKDY0c"
   },
   "source": [
    "If we want to also changes zeros:"
   ]
  },
  {
   "cell_type": "code",
   "execution_count": null,
   "metadata": {
    "ExecuteTime": {
     "end_time": "2023-09-25T08:52:24.273408Z",
     "start_time": "2023-09-25T08:52:23.439586Z"
    },
    "colab": {
     "base_uri": "https://localhost:8080/"
    },
    "executionInfo": {
     "elapsed": 67,
     "status": "ok",
     "timestamp": 1727165335334,
     "user": {
      "displayName": "ILYA REKUN",
      "userId": "11229790335325589174"
     },
     "user_tz": -120
    },
    "id": "OOehtsBlDY0c",
    "outputId": "cee4df81-688a-44c9-f497-af1c95c63ebd"
   },
   "outputs": [
    {
     "data": {
      "text/plain": [
       "array([[5., 3., 3.],\n",
       "       [3., 5., 3.],\n",
       "       [3., 3., 5.]])"
      ]
     },
     "execution_count": 26,
     "metadata": {},
     "output_type": "execute_result"
    }
   ],
   "source": [
    "mat_eye[mat_eye == 0] = 3\n",
    "mat_eye"
   ]
  },
  {
   "cell_type": "code",
   "execution_count": null,
   "metadata": {
    "colab": {
     "base_uri": "https://localhost:8080/"
    },
    "executionInfo": {
     "elapsed": 66,
     "status": "ok",
     "timestamp": 1727165335334,
     "user": {
      "displayName": "ILYA REKUN",
      "userId": "11229790335325589174"
     },
     "user_tz": -120
    },
    "id": "bzeCVT7ODY0c",
    "outputId": "fc502e38-5816-4308-9a32-7edf9528ab1f"
   },
   "outputs": [
    {
     "data": {
      "text/plain": [
       "array([[-999.,    3.,    3.],\n",
       "       [   3., -999.,    3.],\n",
       "       [   3.,    3., -999.]])"
      ]
     },
     "execution_count": 27,
     "metadata": {},
     "output_type": "execute_result"
    }
   ],
   "source": [
    "mat_eye[mat_eye > 4 ] = -999\n",
    "mat_eye"
   ]
  },
  {
   "cell_type": "markdown",
   "metadata": {
    "id": "ByyVGWnpDY0d"
   },
   "source": [
    "## 1.4 Accessing matrix elements"
   ]
  },
  {
   "cell_type": "code",
   "execution_count": null,
   "metadata": {
    "ExecuteTime": {
     "end_time": "2023-09-25T08:52:24.396066Z",
     "start_time": "2023-09-25T08:52:23.647250Z"
    },
    "colab": {
     "base_uri": "https://localhost:8080/"
    },
    "executionInfo": {
     "elapsed": 65,
     "status": "ok",
     "timestamp": 1727165335334,
     "user": {
      "displayName": "ILYA REKUN",
      "userId": "11229790335325589174"
     },
     "user_tz": -120
    },
    "id": "_ulMs75ODY0d",
    "outputId": "5a879914-890f-4030-966c-14a7263dc1a2"
   },
   "outputs": [
    {
     "name": "stdout",
     "output_type": "stream",
     "text": [
      "4 <class 'numpy.int64'>\n",
      "4 <class 'numpy.int64'>\n",
      "[4] <class 'numpy.ndarray'>\n",
      "[4 5] <class 'numpy.ndarray'>\n",
      "[4 5 4] <class 'numpy.ndarray'>\n",
      "[0 9] <class 'numpy.ndarray'>\n",
      "[4 5 4] <class 'numpy.ndarray'>\n",
      "9 <class 'numpy.int64'>\n",
      "[4 5 4 0] <class 'numpy.ndarray'>\n"
     ]
    }
   ],
   "source": [
    "vec = np.array([4, 5, 4, 0, 9])\n",
    "print(vec[0], type(vec[0]))\n",
    "print(vec[2], type(vec[2]))\n",
    "print(vec[0:1], type(vec[0:1]))\n",
    "print(vec[0:2], type(vec[0:2]))\n",
    "print(vec[0:3], type(vec[0:3]))\n",
    "print(vec[3:], type(vec[1:]))\n",
    "print(vec[:3], type(vec[:3]))\n",
    "print(vec[-1], type(vec[-1]))\n",
    "print(vec[0:4], type(vec[0:3]))"
   ]
  },
  {
   "cell_type": "code",
   "execution_count": null,
   "metadata": {
    "ExecuteTime": {
     "end_time": "2023-09-25T08:52:24.432176Z",
     "start_time": "2023-09-25T08:52:23.665152Z"
    },
    "colab": {
     "base_uri": "https://localhost:8080/"
    },
    "executionInfo": {
     "elapsed": 64,
     "status": "ok",
     "timestamp": 1727165335334,
     "user": {
      "displayName": "ILYA REKUN",
      "userId": "11229790335325589174"
     },
     "user_tz": -120
    },
    "id": "XxSnoS6ODY0d",
    "outputId": "b0043dde-8122-472f-a977-07f24fe689ed"
   },
   "outputs": [
    {
     "name": "stdout",
     "output_type": "stream",
     "text": [
      "[[ 1  2  3]\n",
      " [ 4  5  6]\n",
      " [ 7  8  9]\n",
      " [10 11 12]]\n"
     ]
    }
   ],
   "source": [
    "mat = np.array([[1, 2, 3], [4, 5, 6], [7, 8, 9], [10, 11, 12]])\n",
    "print(mat)"
   ]
  },
  {
   "cell_type": "code",
   "execution_count": null,
   "metadata": {
    "ExecuteTime": {
     "end_time": "2023-09-25T08:52:24.463949Z",
     "start_time": "2023-09-25T08:52:23.751686Z"
    },
    "colab": {
     "base_uri": "https://localhost:8080/"
    },
    "collapsed": false,
    "executionInfo": {
     "elapsed": 63,
     "status": "ok",
     "timestamp": 1727165335334,
     "user": {
      "displayName": "ILYA REKUN",
      "userId": "11229790335325589174"
     },
     "user_tz": -120
    },
    "id": "2g4_dLQHDY0d",
    "jupyter": {
     "outputs_hidden": false
    },
    "outputId": "3db80327-faed-4440-eae1-287770245eb0"
   },
   "outputs": [
    {
     "name": "stdout",
     "output_type": "stream",
     "text": [
      "[[4 5 6]\n",
      " [7 8 9]]\n"
     ]
    }
   ],
   "source": [
    "print(mat[1:3])"
   ]
  },
  {
   "cell_type": "code",
   "execution_count": null,
   "metadata": {
    "ExecuteTime": {
     "end_time": "2023-09-25T08:52:24.516058Z",
     "start_time": "2023-09-25T08:52:23.804390Z"
    },
    "colab": {
     "base_uri": "https://localhost:8080/"
    },
    "executionInfo": {
     "elapsed": 62,
     "status": "ok",
     "timestamp": 1727165335334,
     "user": {
      "displayName": "ILYA REKUN",
      "userId": "11229790335325589174"
     },
     "user_tz": -120
    },
    "id": "UnQhGtXRDY0d",
    "outputId": "2a49ed22-a5e7-421d-c0f2-b899a1420f15"
   },
   "outputs": [
    {
     "name": "stdout",
     "output_type": "stream",
     "text": [
      "Accessing  element at (2,3): 6\n",
      "Accesing different elements through sequences:\n",
      "The first line as a row vector: [1 2 3]\n",
      "The second column as a row vector: [ 2  5  8 11]\n",
      "A submatrix from a certain set:\n",
      "[[5 6]\n",
      " [8 9]]\n",
      "\n",
      "A submatrix from a certain index until the end:\n",
      "[[ 5  6]\n",
      " [ 8  9]\n",
      " [11 12]]\n",
      "\n",
      "A submatrix from the beginning to a certain index:\n",
      "[[1 2 3]\n",
      " [4 5 6]\n",
      " [7 8 9]]\n"
     ]
    }
   ],
   "source": [
    "print(\"Accessing  element at (2,3):\", mat[1][2])\n",
    "print(\"Accesing different elements through sequences:\")\n",
    "print(\"The first line as a row vector:\", mat[0][:])\n",
    "print(\"The second column as a row vector:\", mat[:,1])\n",
    "print(\"A submatrix from a certain set:\")\n",
    "print(mat[1:3, 1:3])\n",
    "print(\"\")\n",
    "print(\"A submatrix from a certain index until the end:\")\n",
    "print(mat[1:, 1:])\n",
    "print(\"\")\n",
    "print(\"A submatrix from the beginning to a certain index:\")\n",
    "print(mat[:3, :3])"
   ]
  },
  {
   "cell_type": "markdown",
   "metadata": {
    "id": "4mJvpJ4uDY0e"
   },
   "source": [
    "Getting the dimensions/shape of a matrix:"
   ]
  },
  {
   "cell_type": "code",
   "execution_count": null,
   "metadata": {
    "ExecuteTime": {
     "end_time": "2023-09-25T08:52:24.562734Z",
     "start_time": "2023-09-25T08:52:24.029242Z"
    },
    "colab": {
     "base_uri": "https://localhost:8080/"
    },
    "executionInfo": {
     "elapsed": 61,
     "status": "ok",
     "timestamp": 1727165335334,
     "user": {
      "displayName": "ILYA REKUN",
      "userId": "11229790335325589174"
     },
     "user_tz": -120
    },
    "id": "-OuEUvFXDY0e",
    "outputId": "ada75d8b-2d87-4c8a-c154-281010241cab"
   },
   "outputs": [
    {
     "name": "stdout",
     "output_type": "stream",
     "text": [
      "Shape of the matrix (4, 3)\n",
      "Number of rows 4\n",
      "Number of columns 3\n"
     ]
    }
   ],
   "source": [
    "print(\"Shape of the matrix\", mat.shape)\n",
    "print(\"Number of rows\", mat.shape[0])\n",
    "print(\"Number of columns\", mat.shape[1])"
   ]
  },
  {
   "cell_type": "markdown",
   "metadata": {
    "id": "hqnwjS3MDY0e"
   },
   "source": [
    "## 1.5 Matrix and math operations"
   ]
  },
  {
   "cell_type": "code",
   "execution_count": null,
   "metadata": {
    "ExecuteTime": {
     "end_time": "2023-09-25T08:52:24.604694Z",
     "start_time": "2023-09-25T08:52:24.262833Z"
    },
    "colab": {
     "base_uri": "https://localhost:8080/"
    },
    "executionInfo": {
     "elapsed": 60,
     "status": "ok",
     "timestamp": 1727165335334,
     "user": {
      "displayName": "ILYA REKUN",
      "userId": "11229790335325589174"
     },
     "user_tz": -120
    },
    "id": "1dOVTGvSDY0e",
    "outputId": "3fbbd70c-1589-4326-9744-84276c7d02fa"
   },
   "outputs": [
    {
     "name": "stdout",
     "output_type": "stream",
     "text": [
      "[[1]\n",
      " [2]\n",
      " [3]\n",
      " [4]]\n"
     ]
    }
   ],
   "source": [
    "vec_a = np.array([[1, 2, 3, 4]]).T\n",
    "print(vec_a)"
   ]
  },
  {
   "cell_type": "code",
   "execution_count": null,
   "metadata": {
    "ExecuteTime": {
     "end_time": "2023-09-25T08:52:24.640273Z",
     "start_time": "2023-09-25T08:52:24.315206Z"
    },
    "colab": {
     "base_uri": "https://localhost:8080/"
    },
    "executionInfo": {
     "elapsed": 58,
     "status": "ok",
     "timestamp": 1727165335334,
     "user": {
      "displayName": "ILYA REKUN",
      "userId": "11229790335325589174"
     },
     "user_tz": -120
    },
    "id": "9ihALNEyDY0e",
    "outputId": "89992a07-1582-4fd6-a3b4-e05401e3653c"
   },
   "outputs": [
    {
     "name": "stdout",
     "output_type": "stream",
     "text": [
      "[[2 4 6 8]]\n"
     ]
    }
   ],
   "source": [
    "vec_b = np.array([[2, 4, 6, 8]])\n",
    "print(vec_b)"
   ]
  },
  {
   "cell_type": "code",
   "execution_count": null,
   "metadata": {
    "ExecuteTime": {
     "end_time": "2023-09-25T08:52:24.659721Z",
     "start_time": "2023-09-25T08:52:24.387922Z"
    },
    "colab": {
     "base_uri": "https://localhost:8080/"
    },
    "executionInfo": {
     "elapsed": 58,
     "status": "ok",
     "timestamp": 1727165335335,
     "user": {
      "displayName": "ILYA REKUN",
      "userId": "11229790335325589174"
     },
     "user_tz": -120
    },
    "id": "8SfX-rdoDY0f",
    "outputId": "23c63ea3-1a26-4b03-da27-c510bf7b8b23"
   },
   "outputs": [
    {
     "name": "stdout",
     "output_type": "stream",
     "text": [
      "Transposing a 1D array does not work:\n",
      "[1 2 3 4]\n",
      "[1 2 3 4]\n"
     ]
    }
   ],
   "source": [
    "print(\"Transposing a 1D array does not work:\")\n",
    "test_v = np.array([1, 2, 3, 4])\n",
    "print(test_v)\n",
    "print(test_v.T)"
   ]
  },
  {
   "cell_type": "code",
   "execution_count": null,
   "metadata": {
    "ExecuteTime": {
     "end_time": "2023-09-25T08:52:24.663936Z",
     "start_time": "2023-09-25T08:52:24.444854Z"
    },
    "colab": {
     "base_uri": "https://localhost:8080/"
    },
    "executionInfo": {
     "elapsed": 57,
     "status": "ok",
     "timestamp": 1727165335335,
     "user": {
      "displayName": "ILYA REKUN",
      "userId": "11229790335325589174"
     },
     "user_tz": -120
    },
    "id": "KrreOFj0DY0f",
    "outputId": "d9cb8a2b-9814-490d-8672-e5d7ddd64daf"
   },
   "outputs": [
    {
     "name": "stdout",
     "output_type": "stream",
     "text": [
      "[[1 2 3 4]]\n",
      "[[1]\n",
      " [2]\n",
      " [3]\n",
      " [4]]\n"
     ]
    }
   ],
   "source": [
    "test_v = np.array([[1, 2, 3, 4]])\n",
    "print(test_v)\n",
    "print(test_v.T)"
   ]
  },
  {
   "cell_type": "code",
   "execution_count": null,
   "metadata": {
    "ExecuteTime": {
     "end_time": "2023-09-25T08:52:24.794576Z",
     "start_time": "2023-09-25T08:52:24.574554Z"
    },
    "colab": {
     "base_uri": "https://localhost:8080/"
    },
    "executionInfo": {
     "elapsed": 56,
     "status": "ok",
     "timestamp": 1727165335335,
     "user": {
      "displayName": "ILYA REKUN",
      "userId": "11229790335325589174"
     },
     "user_tz": -120
    },
    "id": "P92b0o-ZDY0f",
    "outputId": "4a1f71aa-748c-4d60-8207-5c34d37ebab2"
   },
   "outputs": [
    {
     "name": "stdout",
     "output_type": "stream",
     "text": [
      "[[2]\n",
      " [4]\n",
      " [6]\n",
      " [8]]\n"
     ]
    }
   ],
   "source": [
    "print(2 * vec_a)"
   ]
  },
  {
   "cell_type": "code",
   "execution_count": null,
   "metadata": {
    "ExecuteTime": {
     "end_time": "2023-09-25T08:52:24.799807Z",
     "start_time": "2023-09-25T08:52:24.631770Z"
    },
    "colab": {
     "base_uri": "https://localhost:8080/"
    },
    "executionInfo": {
     "elapsed": 55,
     "status": "ok",
     "timestamp": 1727165335335,
     "user": {
      "displayName": "ILYA REKUN",
      "userId": "11229790335325589174"
     },
     "user_tz": -120
    },
    "id": "si2PFCXqDY0f",
    "outputId": "4c787524-67b7-4a1b-9880-318f5f40c83c"
   },
   "outputs": [
    {
     "name": "stdout",
     "output_type": "stream",
     "text": [
      "[[0.5]\n",
      " [1. ]\n",
      " [1.5]\n",
      " [2. ]]\n"
     ]
    }
   ],
   "source": [
    "print(vec_a / 2)"
   ]
  },
  {
   "cell_type": "code",
   "execution_count": null,
   "metadata": {
    "ExecuteTime": {
     "end_time": "2023-09-25T08:52:24.886190Z",
     "start_time": "2023-09-25T08:52:24.768186Z"
    },
    "colab": {
     "base_uri": "https://localhost:8080/"
    },
    "executionInfo": {
     "elapsed": 53,
     "status": "ok",
     "timestamp": 1727165335335,
     "user": {
      "displayName": "ILYA REKUN",
      "userId": "11229790335325589174"
     },
     "user_tz": -120
    },
    "id": "B5mtyWWGDY0f",
    "outputId": "26e47543-1c94-47fa-fe25-41addc0e034a"
   },
   "outputs": [
    {
     "name": "stdout",
     "output_type": "stream",
     "text": [
      "[[ 1]\n",
      " [ 8]\n",
      " [27]\n",
      " [64]]\n"
     ]
    }
   ],
   "source": [
    "print(vec_a ** 3)"
   ]
  },
  {
   "cell_type": "code",
   "execution_count": null,
   "metadata": {
    "ExecuteTime": {
     "end_time": "2023-09-25T08:52:24.947602Z",
     "start_time": "2023-09-25T08:52:24.812147Z"
    },
    "colab": {
     "base_uri": "https://localhost:8080/"
    },
    "executionInfo": {
     "elapsed": 52,
     "status": "ok",
     "timestamp": 1727165335335,
     "user": {
      "displayName": "ILYA REKUN",
      "userId": "11229790335325589174"
     },
     "user_tz": -120
    },
    "id": "U5b5de9hDY0f",
    "outputId": "e7767810-186c-4733-84a3-b6e62bead593"
   },
   "outputs": [
    {
     "name": "stdout",
     "output_type": "stream",
     "text": [
      "[[ 2  4  6  8]\n",
      " [ 4  8 12 16]\n",
      " [ 6 12 18 24]\n",
      " [ 8 16 24 32]]\n"
     ]
    }
   ],
   "source": [
    "print(vec_a * vec_b)"
   ]
  },
  {
   "cell_type": "code",
   "execution_count": null,
   "metadata": {
    "ExecuteTime": {
     "end_time": "2023-09-25T08:52:24.952966Z",
     "start_time": "2023-09-25T08:52:24.882431Z"
    },
    "colab": {
     "base_uri": "https://localhost:8080/"
    },
    "executionInfo": {
     "elapsed": 50,
     "status": "ok",
     "timestamp": 1727165335335,
     "user": {
      "displayName": "ILYA REKUN",
      "userId": "11229790335325589174"
     },
     "user_tz": -120
    },
    "id": "hF1zpdblDY0f",
    "outputId": "781810e7-d292-45de-e818-5c1b2a340452"
   },
   "outputs": [
    {
     "name": "stdout",
     "output_type": "stream",
     "text": [
      "[[ 3]\n",
      " [ 8]\n",
      " [15]\n",
      " [24]]\n"
     ]
    }
   ],
   "source": [
    "print(vec_a * (vec_a+2))"
   ]
  },
  {
   "cell_type": "code",
   "execution_count": null,
   "metadata": {
    "ExecuteTime": {
     "end_time": "2023-09-25T08:52:25.094333Z",
     "start_time": "2023-09-25T08:52:24.961774Z"
    },
    "colab": {
     "base_uri": "https://localhost:8080/"
    },
    "executionInfo": {
     "elapsed": 49,
     "status": "ok",
     "timestamp": 1727165335335,
     "user": {
      "displayName": "ILYA REKUN",
      "userId": "11229790335325589174"
     },
     "user_tz": -120
    },
    "id": "8Jg8OvYoDY0g",
    "outputId": "777f7d68-62a1-404e-be18-a48f28c10efb"
   },
   "outputs": [
    {
     "name": "stdout",
     "output_type": "stream",
     "text": [
      "[[1.]\n",
      " [1.]\n",
      " [1.]\n",
      " [1.]]\n"
     ]
    }
   ],
   "source": [
    "print(vec_a / vec_a)"
   ]
  },
  {
   "cell_type": "code",
   "execution_count": null,
   "metadata": {
    "ExecuteTime": {
     "end_time": "2023-09-25T08:52:25.337632Z",
     "start_time": "2023-09-25T08:52:25.089340Z"
    },
    "colab": {
     "base_uri": "https://localhost:8080/"
    },
    "executionInfo": {
     "elapsed": 48,
     "status": "ok",
     "timestamp": 1727165335335,
     "user": {
      "displayName": "ILYA REKUN",
      "userId": "11229790335325589174"
     },
     "user_tz": -120
    },
    "id": "2_lkODIuDY0g",
    "outputId": "0cc550ea-e481-48ab-8ff7-3b781076981f"
   },
   "outputs": [
    {
     "name": "stdout",
     "output_type": "stream",
     "text": [
      "[[2.         4.         6.         8.        ]\n",
      " [1.         2.         3.         4.        ]\n",
      " [0.66666667 1.33333333 2.         2.66666667]\n",
      " [0.5        1.         1.5        2.        ]]\n"
     ]
    }
   ],
   "source": [
    "print(vec_b / vec_a)"
   ]
  },
  {
   "cell_type": "code",
   "execution_count": null,
   "metadata": {
    "ExecuteTime": {
     "end_time": "2023-09-25T08:52:25.519558Z",
     "start_time": "2023-09-25T08:52:25.154840Z"
    },
    "colab": {
     "base_uri": "https://localhost:8080/"
    },
    "executionInfo": {
     "elapsed": 46,
     "status": "ok",
     "timestamp": 1727165335335,
     "user": {
      "displayName": "ILYA REKUN",
      "userId": "11229790335325589174"
     },
     "user_tz": -120
    },
    "id": "BnDaj_xnDY0g",
    "outputId": "f90176f0-aa6f-4087-9453-85da0a8ca80a"
   },
   "outputs": [
    {
     "name": "stdout",
     "output_type": "stream",
     "text": [
      "[[-1 -3 -5 -7]\n",
      " [ 0 -2 -4 -6]\n",
      " [ 1 -1 -3 -5]\n",
      " [ 2  0 -2 -4]]\n"
     ]
    }
   ],
   "source": [
    "print(vec_a - vec_b)"
   ]
  },
  {
   "cell_type": "code",
   "execution_count": null,
   "metadata": {
    "ExecuteTime": {
     "end_time": "2023-09-25T08:52:25.618423Z",
     "start_time": "2023-09-25T08:52:25.250500Z"
    },
    "colab": {
     "base_uri": "https://localhost:8080/"
    },
    "executionInfo": {
     "elapsed": 45,
     "status": "ok",
     "timestamp": 1727165335335,
     "user": {
      "displayName": "ILYA REKUN",
      "userId": "11229790335325589174"
     },
     "user_tz": -120
    },
    "id": "z0MRCNVLDY0g",
    "outputId": "9d003587-a6db-4cf5-e903-b8c00c0532e5"
   },
   "outputs": [
    {
     "name": "stdout",
     "output_type": "stream",
     "text": [
      "[[ 1  3  5  7]\n",
      " [ 0  2  4  6]\n",
      " [-1  1  3  5]\n",
      " [-2  0  2  4]]\n"
     ]
    }
   ],
   "source": [
    "print(vec_b - vec_a)"
   ]
  },
  {
   "cell_type": "code",
   "execution_count": null,
   "metadata": {
    "ExecuteTime": {
     "end_time": "2023-09-25T08:52:25.731515Z",
     "start_time": "2023-09-25T08:52:25.310235Z"
    },
    "colab": {
     "base_uri": "https://localhost:8080/"
    },
    "executionInfo": {
     "elapsed": 43,
     "status": "ok",
     "timestamp": 1727165335335,
     "user": {
      "displayName": "ILYA REKUN",
      "userId": "11229790335325589174"
     },
     "user_tz": -120
    },
    "id": "MKiXfF2QDY0g",
    "outputId": "c22f5a62-9a7d-483a-fb6c-96e5d9332cca"
   },
   "outputs": [
    {
     "name": "stdout",
     "output_type": "stream",
     "text": [
      "[[0.        ]\n",
      " [0.69314718]\n",
      " [1.09861229]\n",
      " [1.38629436]]\n"
     ]
    }
   ],
   "source": [
    "print(np.log(vec_a))"
   ]
  },
  {
   "cell_type": "code",
   "execution_count": null,
   "metadata": {
    "ExecuteTime": {
     "end_time": "2023-09-25T08:52:25.811976Z",
     "start_time": "2023-09-25T08:52:25.402589Z"
    },
    "colab": {
     "base_uri": "https://localhost:8080/"
    },
    "executionInfo": {
     "elapsed": 41,
     "status": "ok",
     "timestamp": 1727165335335,
     "user": {
      "displayName": "ILYA REKUN",
      "userId": "11229790335325589174"
     },
     "user_tz": -120
    },
    "id": "oApoFScnDY0g",
    "outputId": "68bd1a46-83d8-4f2f-e052-4c67777d7a18"
   },
   "outputs": [
    {
     "name": "stdout",
     "output_type": "stream",
     "text": [
      "[[0.  ]\n",
      " [0.69]\n",
      " [1.1 ]\n",
      " [1.39]]\n"
     ]
    }
   ],
   "source": [
    "print(np.round(np.log(vec_a),2))"
   ]
  },
  {
   "cell_type": "markdown",
   "metadata": {
    "id": "8-z2Ov_YDY0g"
   },
   "source": [
    " ## 1.6 Matrix scalar operations"
   ]
  },
  {
   "cell_type": "code",
   "execution_count": null,
   "metadata": {
    "ExecuteTime": {
     "end_time": "2023-09-25T08:52:25.957596Z",
     "start_time": "2023-09-25T08:52:25.613682Z"
    },
    "colab": {
     "base_uri": "https://localhost:8080/"
    },
    "executionInfo": {
     "elapsed": 39,
     "status": "ok",
     "timestamp": 1727165335335,
     "user": {
      "displayName": "ILYA REKUN",
      "userId": "11229790335325589174"
     },
     "user_tz": -120
    },
    "id": "6fn0ckm1DY0g",
    "outputId": "0cfbfb86-f682-423b-9a15-1c5a2d577991"
   },
   "outputs": [
    {
     "name": "stdout",
     "output_type": "stream",
     "text": [
      "10\n",
      "2.5\n",
      "1.25\n",
      "1.118033988749895\n",
      "1 4\n",
      "3\n"
     ]
    }
   ],
   "source": [
    "print(np.sum(vec_a))\n",
    "print(np.mean(vec_a))\n",
    "print(np.var(vec_a))\n",
    "print(np.std(vec_a))\n",
    "print(np.min(vec_a), np.max(vec_a))\n",
    "print(np.ptp(vec_a))"
   ]
  },
  {
   "cell_type": "code",
   "execution_count": null,
   "metadata": {
    "ExecuteTime": {
     "end_time": "2023-09-25T08:52:25.961669Z",
     "start_time": "2023-09-25T08:52:25.658795Z"
    },
    "colab": {
     "base_uri": "https://localhost:8080/"
    },
    "collapsed": false,
    "executionInfo": {
     "elapsed": 37,
     "status": "ok",
     "timestamp": 1727165335335,
     "user": {
      "displayName": "ILYA REKUN",
      "userId": "11229790335325589174"
     },
     "user_tz": -120
    },
    "id": "Aqh_6ea4DY0g",
    "jupyter": {
     "outputs_hidden": false
    },
    "outputId": "2e4c3a87-c80c-4c5a-b59a-5ea460cb2676"
   },
   "outputs": [
    {
     "data": {
      "text/plain": [
       "array([[ 1,  2,  3],\n",
       "       [ 4,  5,  6],\n",
       "       [ 7,  8,  9],\n",
       "       [10, 11, 12]])"
      ]
     },
     "execution_count": 49,
     "metadata": {},
     "output_type": "execute_result"
    }
   ],
   "source": [
    "mat"
   ]
  },
  {
   "cell_type": "code",
   "execution_count": null,
   "metadata": {
    "ExecuteTime": {
     "end_time": "2023-09-25T08:52:26.018465Z",
     "start_time": "2023-09-25T08:52:25.795451Z"
    },
    "colab": {
     "base_uri": "https://localhost:8080/"
    },
    "executionInfo": {
     "elapsed": 36,
     "status": "ok",
     "timestamp": 1727165335335,
     "user": {
      "displayName": "ILYA REKUN",
      "userId": "11229790335325589174"
     },
     "user_tz": -120
    },
    "id": "P3C4WKRCDY0h",
    "outputId": "78afe278-d84b-4202-cf1b-e75b9f6e9549"
   },
   "outputs": [
    {
     "name": "stdout",
     "output_type": "stream",
     "text": [
      "Max of mat along axis 0:  [10 11 12]\n",
      "Max of mat along axis 1:  [ 3  6  9 12]\n",
      "Mean of mat along axis 0:  [5.5 6.5 7.5]\n",
      "Mean of mat along axis 1:  [ 2.  5.  8. 11.]\n"
     ]
    }
   ],
   "source": [
    "print(\"Max of mat along axis 0: \", np.max(mat, 0))\n",
    "print(\"Max of mat along axis 1: \", np.max(mat, 1))\n",
    "print(\"Mean of mat along axis 0: \", np.mean(mat, 0))\n",
    "print(\"Mean of mat along axis 1: \", np.mean(mat, 1))"
   ]
  },
  {
   "cell_type": "markdown",
   "metadata": {
    "id": "K9r6h3sfDY0h"
   },
   "source": [
    "Determinant"
   ]
  },
  {
   "cell_type": "code",
   "execution_count": null,
   "metadata": {
    "ExecuteTime": {
     "end_time": "2023-09-25T08:52:26.102988Z",
     "start_time": "2023-09-25T08:52:25.924972Z"
    },
    "colab": {
     "base_uri": "https://localhost:8080/"
    },
    "executionInfo": {
     "elapsed": 35,
     "status": "ok",
     "timestamp": 1727165335335,
     "user": {
      "displayName": "ILYA REKUN",
      "userId": "11229790335325589174"
     },
     "user_tz": -120
    },
    "id": "lAH28Ge7DY0h",
    "outputId": "1f1cae39-5942-4e51-d7c6-12e4258c7e37"
   },
   "outputs": [
    {
     "name": "stdout",
     "output_type": "stream",
     "text": [
      "[[0.15904845 0.99779393 0.52748146 0.58396391]\n",
      " [0.87342687 0.40252776 0.25646243 0.4816602 ]\n",
      " [0.12597651 0.52750469 0.68454731 0.80703372]\n",
      " [0.27933398 0.06447559 0.44423021 0.51424552]]\n",
      "0.026546079338723612\n"
     ]
    }
   ],
   "source": [
    "matrix = np.random.rand(4,4)\n",
    "print(matrix)\n",
    "print(np.linalg.det(matrix))"
   ]
  },
  {
   "cell_type": "markdown",
   "metadata": {
    "id": "A_EHn6jzDY0h"
   },
   "source": [
    "Get diagonal from matrix"
   ]
  },
  {
   "cell_type": "code",
   "execution_count": null,
   "metadata": {
    "ExecuteTime": {
     "end_time": "2023-09-25T08:52:26.153524Z",
     "start_time": "2023-09-25T08:52:26.094829Z"
    },
    "colab": {
     "base_uri": "https://localhost:8080/"
    },
    "executionInfo": {
     "elapsed": 33,
     "status": "ok",
     "timestamp": 1727165335335,
     "user": {
      "displayName": "ILYA REKUN",
      "userId": "11229790335325589174"
     },
     "user_tz": -120
    },
    "id": "OTvBo3f0DY0h",
    "outputId": "2d190411-824f-4461-f601-eb0e5bf716c8"
   },
   "outputs": [
    {
     "name": "stdout",
     "output_type": "stream",
     "text": [
      "[0.15904845 0.40252776 0.68454731 0.51424552]\n"
     ]
    }
   ],
   "source": [
    "print(np.diag(matrix))"
   ]
  },
  {
   "cell_type": "code",
   "execution_count": null,
   "metadata": {
    "ExecuteTime": {
     "end_time": "2023-09-25T08:52:26.224747Z",
     "start_time": "2023-09-25T08:52:26.145616Z"
    },
    "colab": {
     "base_uri": "https://localhost:8080/"
    },
    "executionInfo": {
     "elapsed": 33,
     "status": "ok",
     "timestamp": 1727165335336,
     "user": {
      "displayName": "ILYA REKUN",
      "userId": "11229790335325589174"
     },
     "user_tz": -120
    },
    "id": "C8yCguGoDY0i",
    "outputId": "5b1ca591-abda-4fd9-afa7-f025dcbfd560"
   },
   "outputs": [
    {
     "name": "stdout",
     "output_type": "stream",
     "text": [
      "[0.52748146 0.4816602 ]\n"
     ]
    }
   ],
   "source": [
    "print(np.diag(matrix,2))"
   ]
  },
  {
   "cell_type": "code",
   "execution_count": null,
   "metadata": {
    "ExecuteTime": {
     "end_time": "2023-09-25T08:52:26.315336Z",
     "start_time": "2023-09-25T08:52:26.253748Z"
    },
    "colab": {
     "base_uri": "https://localhost:8080/"
    },
    "executionInfo": {
     "elapsed": 32,
     "status": "ok",
     "timestamp": 1727165335336,
     "user": {
      "displayName": "ILYA REKUN",
      "userId": "11229790335325589174"
     },
     "user_tz": -120
    },
    "id": "5S-xlSEbDY0i",
    "outputId": "a6f0ed09-b5f5-4f97-8a1e-623d4ca29501"
   },
   "outputs": [
    {
     "name": "stdout",
     "output_type": "stream",
     "text": [
      "[0.87342687 0.52750469 0.44423021]\n"
     ]
    }
   ],
   "source": [
    "print(np.diag(matrix,-1))"
   ]
  },
  {
   "cell_type": "code",
   "execution_count": null,
   "metadata": {
    "ExecuteTime": {
     "end_time": "2023-09-25T08:52:26.421636Z",
     "start_time": "2023-09-25T08:52:26.308750Z"
    },
    "colab": {
     "base_uri": "https://localhost:8080/"
    },
    "collapsed": false,
    "executionInfo": {
     "elapsed": 31,
     "status": "ok",
     "timestamp": 1727165335336,
     "user": {
      "displayName": "ILYA REKUN",
      "userId": "11229790335325589174"
     },
     "user_tz": -120
    },
    "id": "qG9cQP-DDY0i",
    "jupyter": {
     "outputs_hidden": false
    },
    "outputId": "211e4291-d93d-4d5d-e704-07c66fd3db86"
   },
   "outputs": [
    {
     "data": {
      "text/plain": [
       "array([[1, 2],\n",
       "       [3, 4]])"
      ]
     },
     "execution_count": 55,
     "metadata": {},
     "output_type": "execute_result"
    }
   ],
   "source": [
    "A = np.array([[1, 2], [3, 4]])\n",
    "A"
   ]
  },
  {
   "cell_type": "code",
   "execution_count": null,
   "metadata": {
    "ExecuteTime": {
     "end_time": "2023-09-25T08:52:26.536236Z",
     "start_time": "2023-09-25T08:52:26.413624Z"
    },
    "colab": {
     "base_uri": "https://localhost:8080/"
    },
    "executionInfo": {
     "elapsed": 30,
     "status": "ok",
     "timestamp": 1727165335336,
     "user": {
      "displayName": "ILYA REKUN",
      "userId": "11229790335325589174"
     },
     "user_tz": -120
    },
    "id": "IqoMesvwDY0i",
    "outputId": "57961b17-a78c-41cf-b056-33834cf4954b"
   },
   "outputs": [
    {
     "name": "stdout",
     "output_type": "stream",
     "text": [
      "[[1 2]\n",
      " [1 2]\n",
      " [3 4]\n",
      " [3 4]]\n"
     ]
    }
   ],
   "source": [
    "print(np.repeat(A, 2,axis=0))"
   ]
  },
  {
   "cell_type": "code",
   "execution_count": null,
   "metadata": {
    "ExecuteTime": {
     "end_time": "2023-09-25T08:52:26.585155Z",
     "start_time": "2023-09-25T08:52:26.461295Z"
    },
    "colab": {
     "base_uri": "https://localhost:8080/"
    },
    "collapsed": false,
    "executionInfo": {
     "elapsed": 29,
     "status": "ok",
     "timestamp": 1727165335336,
     "user": {
      "displayName": "ILYA REKUN",
      "userId": "11229790335325589174"
     },
     "user_tz": -120
    },
    "id": "EkUj30EvDY0i",
    "jupyter": {
     "outputs_hidden": false
    },
    "outputId": "a43ba21a-1500-40f1-ccf9-8ad2a6b29f05"
   },
   "outputs": [
    {
     "data": {
      "text/plain": [
       "array([1, 1, 2, 2, 3, 3, 4, 4])"
      ]
     },
     "execution_count": 57,
     "metadata": {},
     "output_type": "execute_result"
    }
   ],
   "source": [
    "np.repeat(A, 2)"
   ]
  },
  {
   "cell_type": "code",
   "execution_count": null,
   "metadata": {
    "ExecuteTime": {
     "end_time": "2023-09-25T08:52:26.659572Z",
     "start_time": "2023-09-25T08:52:26.576521Z"
    },
    "colab": {
     "base_uri": "https://localhost:8080/"
    },
    "executionInfo": {
     "elapsed": 28,
     "status": "ok",
     "timestamp": 1727165335336,
     "user": {
      "displayName": "ILYA REKUN",
      "userId": "11229790335325589174"
     },
     "user_tz": -120
    },
    "id": "0h04Dg6ZDY0j",
    "outputId": "5e6294d5-f647-451d-dd34-0f55f5df8e0a"
   },
   "outputs": [
    {
     "name": "stdout",
     "output_type": "stream",
     "text": [
      "[[1 1 2 2]\n",
      " [3 3 4 4]]\n"
     ]
    }
   ],
   "source": [
    "print(np.repeat(A, 2,axis=1))"
   ]
  },
  {
   "cell_type": "code",
   "execution_count": null,
   "metadata": {
    "ExecuteTime": {
     "end_time": "2023-09-25T08:52:26.689268Z",
     "start_time": "2023-09-25T08:52:26.636514Z"
    },
    "colab": {
     "base_uri": "https://localhost:8080/"
    },
    "executionInfo": {
     "elapsed": 27,
     "status": "ok",
     "timestamp": 1727165335336,
     "user": {
      "displayName": "ILYA REKUN",
      "userId": "11229790335325589174"
     },
     "user_tz": -120
    },
    "id": "sz1EzCAVDY0j",
    "outputId": "ece41b6a-ab9f-49d2-a074-a3b3722662db"
   },
   "outputs": [
    {
     "data": {
      "text/plain": [
       "array([[1, 2],\n",
       "       [3, 4]])"
      ]
     },
     "execution_count": 59,
     "metadata": {},
     "output_type": "execute_result"
    }
   ],
   "source": [
    "A"
   ]
  },
  {
   "cell_type": "code",
   "execution_count": null,
   "metadata": {
    "ExecuteTime": {
     "end_time": "2023-09-25T08:52:27.249990Z",
     "start_time": "2023-09-25T08:52:27.220316Z"
    },
    "colab": {
     "base_uri": "https://localhost:8080/"
    },
    "executionInfo": {
     "elapsed": 26,
     "status": "ok",
     "timestamp": 1727165335336,
     "user": {
      "displayName": "ILYA REKUN",
      "userId": "11229790335325589174"
     },
     "user_tz": -120
    },
    "id": "xjdWCUYYDY0j",
    "outputId": "3eb592fd-403c-49f1-af78-eabe14e0088a"
   },
   "outputs": [
    {
     "data": {
      "text/plain": [
       "array([[ 1,  2],\n",
       "       [ 3,  4],\n",
       "       [-1, -2],\n",
       "       [-3, -4]])"
      ]
     },
     "execution_count": 60,
     "metadata": {},
     "output_type": "execute_result"
    }
   ],
   "source": [
    "np.append(A, A*(-1),axis=0)"
   ]
  },
  {
   "cell_type": "code",
   "execution_count": null,
   "metadata": {
    "ExecuteTime": {
     "end_time": "2023-09-25T08:52:27.495824Z",
     "start_time": "2023-09-25T08:52:27.434940Z"
    },
    "colab": {
     "base_uri": "https://localhost:8080/"
    },
    "executionInfo": {
     "elapsed": 25,
     "status": "ok",
     "timestamp": 1727165335336,
     "user": {
      "displayName": "ILYA REKUN",
      "userId": "11229790335325589174"
     },
     "user_tz": -120
    },
    "id": "V5u5kfcYDY0j",
    "outputId": "fe0ec09c-882a-40d3-ab46-8b6a3cf2cfc2"
   },
   "outputs": [
    {
     "data": {
      "text/plain": [
       "array([[ 1,  2, -1, -2],\n",
       "       [ 3,  4, -3, -4]])"
      ]
     },
     "execution_count": 61,
     "metadata": {},
     "output_type": "execute_result"
    }
   ],
   "source": [
    "np.append(A, A*(-1),axis=1)"
   ]
  },
  {
   "cell_type": "code",
   "execution_count": null,
   "metadata": {
    "ExecuteTime": {
     "end_time": "2023-09-25T08:52:27.789453Z",
     "start_time": "2023-09-25T08:52:27.703262Z"
    },
    "colab": {
     "base_uri": "https://localhost:8080/"
    },
    "collapsed": false,
    "executionInfo": {
     "elapsed": 24,
     "status": "ok",
     "timestamp": 1727165335336,
     "user": {
      "displayName": "ILYA REKUN",
      "userId": "11229790335325589174"
     },
     "user_tz": -120
    },
    "id": "Rz86P1YnDY0j",
    "jupyter": {
     "outputs_hidden": false
    },
    "outputId": "eea10552-46ea-41e3-87e5-5a9890afdad4"
   },
   "outputs": [
    {
     "data": {
      "text/plain": [
       "array([[0.15904845, 0.99779393, 0.52748146, 0.58396391],\n",
       "       [0.87342687, 0.40252776, 0.25646243, 0.4816602 ],\n",
       "       [0.12597651, 0.52750469, 0.68454731, 0.80703372],\n",
       "       [0.27933398, 0.06447559, 0.44423021, 0.51424552]])"
      ]
     },
     "execution_count": 62,
     "metadata": {},
     "output_type": "execute_result"
    }
   ],
   "source": [
    "matrix"
   ]
  },
  {
   "cell_type": "markdown",
   "metadata": {
    "id": "qVg0FCF0DY0j"
   },
   "source": [
    "Changing the shape of a matrix (size must be the same):"
   ]
  },
  {
   "cell_type": "code",
   "execution_count": null,
   "metadata": {
    "ExecuteTime": {
     "end_time": "2023-09-25T08:52:28.089758Z",
     "start_time": "2023-09-25T08:52:28.020059Z"
    },
    "colab": {
     "base_uri": "https://localhost:8080/"
    },
    "executionInfo": {
     "elapsed": 23,
     "status": "ok",
     "timestamp": 1727165335336,
     "user": {
      "displayName": "ILYA REKUN",
      "userId": "11229790335325589174"
     },
     "user_tz": -120
    },
    "id": "8s-wde9HDY0j",
    "outputId": "945b6560-3542-4eb0-b6d2-9b2c141c22cc"
   },
   "outputs": [
    {
     "data": {
      "text/plain": [
       "array([[0.15904845, 0.99779393, 0.52748146, 0.58396391, 0.87342687,\n",
       "        0.40252776, 0.25646243, 0.4816602 ],\n",
       "       [0.12597651, 0.52750469, 0.68454731, 0.80703372, 0.27933398,\n",
       "        0.06447559, 0.44423021, 0.51424552]])"
      ]
     },
     "execution_count": 63,
     "metadata": {},
     "output_type": "execute_result"
    }
   ],
   "source": [
    "matrix.reshape(2,8)"
   ]
  },
  {
   "cell_type": "markdown",
   "metadata": {
    "id": "LI16ga2DDY0j"
   },
   "source": [
    "Matrix concatenation (dimensions must match):"
   ]
  },
  {
   "cell_type": "code",
   "execution_count": null,
   "metadata": {
    "ExecuteTime": {
     "end_time": "2023-09-25T08:52:28.425262Z",
     "start_time": "2023-09-25T08:52:28.352035Z"
    },
    "colab": {
     "base_uri": "https://localhost:8080/"
    },
    "executionInfo": {
     "elapsed": 22,
     "status": "ok",
     "timestamp": 1727165335336,
     "user": {
      "displayName": "ILYA REKUN",
      "userId": "11229790335325589174"
     },
     "user_tz": -120
    },
    "id": "cfmQ14fXDY0j",
    "outputId": "d89a32e4-ca78-4d58-fe12-75fa6483ace8"
   },
   "outputs": [
    {
     "name": "stdout",
     "output_type": "stream",
     "text": [
      "(4, 1)\n",
      "(1, 4)\n"
     ]
    },
    {
     "data": {
      "text/plain": [
       "array([[1],\n",
       "       [2],\n",
       "       [3],\n",
       "       [4],\n",
       "       [2],\n",
       "       [4],\n",
       "       [6],\n",
       "       [8]])"
      ]
     },
     "execution_count": 64,
     "metadata": {},
     "output_type": "execute_result"
    }
   ],
   "source": [
    "print(vec_a.shape)\n",
    "print(vec_b.shape)\n",
    "np.concatenate((vec_a, vec_b.T), 0)"
   ]
  },
  {
   "cell_type": "code",
   "execution_count": null,
   "metadata": {
    "ExecuteTime": {
     "end_time": "2023-09-25T08:52:28.832300Z",
     "start_time": "2023-09-25T08:52:28.771495Z"
    },
    "colab": {
     "base_uri": "https://localhost:8080/"
    },
    "executionInfo": {
     "elapsed": 20,
     "status": "ok",
     "timestamp": 1727165335336,
     "user": {
      "displayName": "ILYA REKUN",
      "userId": "11229790335325589174"
     },
     "user_tz": -120
    },
    "id": "9yI1esYfDY0k",
    "outputId": "594722c4-a254-487a-e658-c1158760356c"
   },
   "outputs": [
    {
     "name": "stdout",
     "output_type": "stream",
     "text": [
      "(4, 1)\n",
      "(1, 4)\n"
     ]
    },
    {
     "data": {
      "text/plain": [
       "array([[1, 2],\n",
       "       [2, 4],\n",
       "       [3, 6],\n",
       "       [4, 8]])"
      ]
     },
     "execution_count": 65,
     "metadata": {},
     "output_type": "execute_result"
    }
   ],
   "source": [
    "print(vec_a.shape)\n",
    "print(vec_b.shape)\n",
    "np.concatenate((vec_a, vec_b.T), 1)"
   ]
  },
  {
   "cell_type": "code",
   "execution_count": null,
   "metadata": {
    "ExecuteTime": {
     "end_time": "2023-09-25T08:52:28.968558Z",
     "start_time": "2023-09-25T08:52:28.861060Z"
    },
    "colab": {
     "base_uri": "https://localhost:8080/"
    },
    "executionInfo": {
     "elapsed": 304,
     "status": "ok",
     "timestamp": 1727165355564,
     "user": {
      "displayName": "ILYA REKUN",
      "userId": "11229790335325589174"
     },
     "user_tz": -120
    },
    "id": "Yxpqx-cZDY0k",
    "outputId": "f7759257-73a3-413c-8c13-334f89533382"
   },
   "outputs": [
    {
     "name": "stdout",
     "output_type": "stream",
     "text": [
      "(4, 1)\n",
      "(1, 4)\n"
     ]
    },
    {
     "data": {
      "text/plain": [
       "array([[[1, 2, 3, 4]],\n",
       "\n",
       "       [[2, 4, 6, 8]]])"
      ]
     },
     "execution_count": 70,
     "metadata": {},
     "output_type": "execute_result"
    }
   ],
   "source": [
    "print(vec_a.shape)\n",
    "print(vec_b.shape)\n",
    "np.array((vec_a.T, vec_b))"
   ]
  },
  {
   "cell_type": "markdown",
   "metadata": {
    "id": "mVfzztfBDY0k"
   },
   "source": [
    " ## 1.7 Matrix vector operations"
   ]
  },
  {
   "cell_type": "markdown",
   "metadata": {
    "id": "_CAJWl4sDY0k"
   },
   "source": [
    "When working with matrices, you often have to calculate scalar and vector products. You must understand the differences between various operations and their notation."
   ]
  },
  {
   "cell_type": "code",
   "execution_count": null,
   "metadata": {
    "ExecuteTime": {
     "end_time": "2023-09-25T08:52:29.598239Z",
     "start_time": "2023-09-25T08:52:29.540687Z"
    },
    "id": "HQ6vVZ3jDY0k"
   },
   "outputs": [],
   "source": [
    "mat_a = np.array([[1, 2, 3]])\n",
    "mat_b = np.array([[4, 5, 6]])"
   ]
  },
  {
   "cell_type": "code",
   "execution_count": null,
   "metadata": {
    "ExecuteTime": {
     "end_time": "2023-09-25T08:52:29.823282Z",
     "start_time": "2023-09-25T08:52:29.807150Z"
    },
    "colab": {
     "base_uri": "https://localhost:8080/"
    },
    "executionInfo": {
     "elapsed": 19,
     "status": "ok",
     "timestamp": 1727165335336,
     "user": {
      "displayName": "ILYA REKUN",
      "userId": "11229790335325589174"
     },
     "user_tz": -120
    },
    "id": "MOEPBRNqDY0k",
    "outputId": "d716a1c0-86f1-4ea5-cfec-50f30f09d7a5"
   },
   "outputs": [
    {
     "name": "stdout",
     "output_type": "stream",
     "text": [
      "[[ 4 10 18]]\n",
      "[[ 4  5  6]\n",
      " [ 8 10 12]\n",
      " [12 15 18]]\n",
      "[[ 4  8 12]\n",
      " [ 5 10 15]\n",
      " [ 6 12 18]]\n",
      "[[ 4  5  6]\n",
      " [ 8 10 12]\n",
      " [12 15 18]]\n"
     ]
    }
   ],
   "source": [
    "print(mat_a * mat_b)    # elementwise\n",
    "print(mat_a.T * mat_b)  # vector product\n",
    "print(mat_a * mat_b.T)  # vector product\n",
    "print(mat_a.T @ mat_b)  # dot product"
   ]
  },
  {
   "cell_type": "markdown",
   "metadata": {
    "id": "zLhPUiLvDY0k"
   },
   "source": [
    "# Linear algebra:"
   ]
  },
  {
   "cell_type": "code",
   "execution_count": null,
   "metadata": {
    "ExecuteTime": {
     "end_time": "2023-09-25T08:52:30.096142Z",
     "start_time": "2023-09-25T08:52:30.089452Z"
    },
    "colab": {
     "base_uri": "https://localhost:8080/"
    },
    "executionInfo": {
     "elapsed": 17,
     "status": "ok",
     "timestamp": 1727165335336,
     "user": {
      "displayName": "ILYA REKUN",
      "userId": "11229790335325589174"
     },
     "user_tz": -120
    },
    "id": "rHEvlmKoDY0k",
    "outputId": "bbbe3681-cd7e-4c82-da89-8378ae6ddac7"
   },
   "outputs": [
    {
     "name": "stdout",
     "output_type": "stream",
     "text": [
      "Eigen values: \n",
      " [ 1.66750116  0.24715589 -0.0643926 ] \n",
      " Eigen matrix\n",
      " [[-0.55505715 -0.82848647 -0.54860805]\n",
      " [-0.65114025 -0.06971751 -0.38653592]\n",
      " [-0.51761755  0.55565244  0.74136306]]\n"
     ]
    }
   ],
   "source": [
    "V, D = np.linalg.eig(np.random.rand(3, 3))\n",
    "print(\"Eigen values: \\n\",V,\"\\n Eigen matrix\\n\",D)"
   ]
  },
  {
   "cell_type": "code",
   "execution_count": null,
   "metadata": {
    "ExecuteTime": {
     "end_time": "2023-09-25T08:52:30.589941Z",
     "start_time": "2023-09-25T08:52:30.583006Z"
    },
    "colab": {
     "base_uri": "https://localhost:8080/"
    },
    "executionInfo": {
     "elapsed": 16,
     "status": "ok",
     "timestamp": 1727165335336,
     "user": {
      "displayName": "ILYA REKUN",
      "userId": "11229790335325589174"
     },
     "user_tz": -120
    },
    "id": "03P77URSDY0k",
    "outputId": "f64adf91-6af6-40a5-a0de-034fa9bc0e8b"
   },
   "outputs": [
    {
     "name": "stdout",
     "output_type": "stream",
     "text": [
      "SVD single value decomposition: \n",
      " [[-0.51296621  0.5168635  -0.68535961]\n",
      " [-0.46591497 -0.83821138 -0.28341652]\n",
      " [-0.72096388  0.1739362   0.67078855]] \n",
      " Eigen matrix\n",
      " [1.89808223 0.75673071 0.21186125] \n",
      " Eigen matrix\n",
      " [[-0.60449869 -0.62989647 -0.48765948]\n",
      " [ 0.48549996  0.19402212 -0.85243487]\n",
      " [ 0.63156244 -0.75205442  0.18852859]]\n"
     ]
    }
   ],
   "source": [
    "U, S, V = np.linalg.svd(np.random.rand(3, 3))\n",
    "print(\"SVD single value decomposition: \\n\", U,\"\\n Eigen matrix\\n\",S,\"\\n Eigen matrix\\n\",V) # a = U * S * V'"
   ]
  }
 ],
 "metadata": {
  "colab": {
   "provenance": []
  },
  "kernelspec": {
   "display_name": "Python 3 (ipykernel)",
   "language": "python",
   "name": "python3"
  },
  "language_info": {
   "codemirror_mode": {
    "name": "ipython",
    "version": 3
   },
   "file_extension": ".py",
   "mimetype": "text/x-python",
   "name": "python",
   "nbconvert_exporter": "python",
   "pygments_lexer": "ipython3",
   "version": "3.13.0"
  }
 },
 "nbformat": 4,
 "nbformat_minor": 4
}
