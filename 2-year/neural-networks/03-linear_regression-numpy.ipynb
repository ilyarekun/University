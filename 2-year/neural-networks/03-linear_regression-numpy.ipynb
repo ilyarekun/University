{
 "cells": [
  {
   "cell_type": "markdown",
   "source": [
    "# KKUI CIT Course - Neural networks - Week_02 - Linear regression (low-level - Gabriela)\n"
   ],
   "metadata": {
    "collapsed": false
   }
  },
  {
   "cell_type": "markdown",
   "source": [
    "## All numpy"
   ],
   "metadata": {
    "collapsed": false
   }
  },
  {
   "cell_type": "code",
   "execution_count": 140,
   "outputs": [
    {
     "name": "stdout",
     "output_type": "stream",
     "text": [
      "Prediction before training: f(5) = 0.000\n",
      "epoch 1: w = 0.300, loss = 30.00000000\n",
      "epoch 11: w = 1.665, loss = 1.16278565\n",
      "epoch 21: w = 1.934, loss = 0.04506905\n",
      "epoch 31: w = 1.987, loss = 0.00174685\n",
      "epoch 41: w = 1.997, loss = 0.00006770\n",
      "epoch 51: w = 1.999, loss = 0.00000262\n",
      "epoch 61: w = 2.000, loss = 0.00000010\n",
      "epoch 71: w = 2.000, loss = 0.00000000\n",
      "epoch 81: w = 2.000, loss = 0.00000000\n",
      "epoch 91: w = 2.000, loss = 0.00000000\n",
      "Prediction after training: f(5) = 10.000\n"
     ]
    }
   ],
   "source": [
    "from sklearn import datasets\n",
    "import numpy as np\n",
    "\n",
    "# Compute every step manually\n",
    "\n",
    "# Linear regression\n",
    "# f = w * x\n",
    "\n",
    "# here : f = 2 * x\n",
    "X = np.array([1, 2, 3, 4], dtype=np.float32)\n",
    "Y = np.array([2, 4, 6, 8], dtype=np.float32)\n",
    "\n",
    "# X = np.array([1, 2, 3, 4], dtype=np.float32)\n",
    "# Y = np.array([2, 4, 6, 7], dtype=np.float32)\n",
    "\n",
    "w = 0.0\n",
    "\n",
    "# model output\n",
    "def forward(x):\n",
    "    return w * x\n",
    "\n",
    "# loss = MSE\n",
    "def loss(y, y_pred):\n",
    "    return ((y_pred - y)**2).mean()\n",
    "\n",
    "# J = MSE = 1/N * (w*x - y)**2\n",
    "# dJ/dw = 1/N * 2x(w*x - y)\n",
    "def gradient(x, y, y_pred):\n",
    "    return np.mean(2*x*(y_pred - y))\n",
    "\n",
    "print(f'Prediction before training: f(5) = {forward(5):.3f}')\n",
    "\n",
    "# Training\n",
    "learning_rate = 0.01\n",
    "n_iters = 2\n",
    "\n",
    "for epoch in range(n_iters):\n",
    "    # predict = forward pass\n",
    "    y_pred = forward(X)\n",
    "\n",
    "    # loss\n",
    "    l = loss(Y, y_pred)\n",
    "\n",
    "    # calculate gradients\n",
    "    dw = gradient(X, Y, y_pred)\n",
    "\n",
    "    # update weights\n",
    "    w -= learning_rate * dw\n",
    "\n",
    "    if epoch % 10 == 0:\n",
    "        print(f'epoch {epoch+1}: w = {w:.3f}, loss = {l:.8f}')\n",
    "\n",
    "print(f'Prediction after training: f(5) = {forward(5):.3f}')"
   ],
   "metadata": {
    "collapsed": false,
    "ExecuteTime": {
     "end_time": "2024-02-18T20:47:04.063943Z",
     "start_time": "2024-02-18T20:47:04.057137Z"
    }
   }
  },
  {
   "cell_type": "code",
   "execution_count": 129,
   "outputs": [
    {
     "data": {
      "text/plain": "1.8666667208672416"
     },
     "execution_count": 129,
     "metadata": {},
     "output_type": "execute_result"
    }
   ],
   "source": [
    "w"
   ],
   "metadata": {
    "collapsed": false,
    "ExecuteTime": {
     "end_time": "2024-02-18T20:37:38.359793Z",
     "start_time": "2024-02-18T20:37:38.350414Z"
    }
   }
  },
  {
   "cell_type": "markdown",
   "source": [
    "### Test"
   ],
   "metadata": {
    "collapsed": false
   }
  },
  {
   "cell_type": "code",
   "execution_count": 130,
   "outputs": [],
   "source": [
    "# Generate some test data points to evaluate the trained model\n",
    "test_x = np.array([[5], [5.3], [6.20]])\n",
    "\n",
    "\n",
    "# Get the model predictions for the test data\n",
    "test_y = forward(test_x)\n"
   ],
   "metadata": {
    "collapsed": false,
    "ExecuteTime": {
     "end_time": "2024-02-18T20:37:38.661777Z",
     "start_time": "2024-02-18T20:37:38.654686Z"
    }
   }
  },
  {
   "cell_type": "code",
   "execution_count": 131,
   "outputs": [
    {
     "data": {
      "text/plain": "<Figure size 640x480 with 1 Axes>",
      "image/png": "[encoded data removed]"
     },
     "metadata": {},
     "output_type": "display_data"
    }
   ],
   "source": [
    "from matplotlib import pyplot as plt\n",
    "\n",
    "# Plot the original data points (red circles), the predicted regression line (blue line), and additional testing values (green crosses)\n",
    "plt.plot(X, Y, 'ro', label='Original data')  # Plot original data points\n",
    "plt.plot(X, y_pred, 'b', label='Fitted line')    # Plot fitted regression line\n",
    "\n",
    "# Add the testing data points along with their predicted values (marked with green crosses)\n",
    "plt.plot(test_x, test_y, 'gx', label='Testing data')  # Plot testing data points\n",
    "\n",
    "# Set labels for the x and y axes\n",
    "plt.xlabel('X')\n",
    "plt.ylabel('y')\n",
    "\n",
    "# Display legend\n",
    "plt.legend()\n",
    "\n",
    "# Show the plot\n",
    "plt.show()"
   ],
   "metadata": {
    "collapsed": false,
    "ExecuteTime": {
     "end_time": "2024-02-18T20:37:38.898051Z",
     "start_time": "2024-02-18T20:37:38.814979Z"
    }
   }
  },
  {
   "cell_type": "markdown",
   "source": [
    "## Implement auto gradient"
   ],
   "metadata": {
    "collapsed": false
   }
  },
  {
   "cell_type": "code",
   "execution_count": 136,
   "outputs": [
    {
     "name": "stdout",
     "output_type": "stream",
     "text": [
      "Prediction before training: f(5) = 0.000\n",
      "epoch 1: w = 0.300, loss = 30.00000000\n",
      "epoch 11: w = 1.665, loss = 1.16278565\n",
      "epoch 21: w = 1.934, loss = 0.04506890\n",
      "epoch 31: w = 1.987, loss = 0.00174685\n",
      "epoch 41: w = 1.997, loss = 0.00006770\n",
      "epoch 51: w = 1.999, loss = 0.00000262\n",
      "epoch 61: w = 2.000, loss = 0.00000010\n",
      "epoch 71: w = 2.000, loss = 0.00000000\n",
      "epoch 81: w = 2.000, loss = 0.00000000\n",
      "epoch 91: w = 2.000, loss = 0.00000000\n",
      "Prediction after training: f(5) = 10.000\n"
     ]
    }
   ],
   "source": [
    "import torch\n",
    "\n",
    "# Here we replace the manually computed gradient with autograd\n",
    "\n",
    "# Linear regression\n",
    "# f = w * x\n",
    "\n",
    "# here : f = 2 * x\n",
    "X = torch.tensor([1, 2, 3, 4], dtype=torch.float32)\n",
    "Y = torch.tensor([2, 4, 6, 8], dtype=torch.float32)\n",
    "\n",
    "w = torch.tensor(0.0, dtype=torch.float32, requires_grad=True)\n",
    "\n",
    "# model output\n",
    "def forward(x):\n",
    "    return w * x\n",
    "\n",
    "# loss = MSE\n",
    "def loss(y, y_pred):\n",
    "    return ((y_pred - y)**2).mean()\n",
    "\n",
    "print(f'Prediction before training: f(5) = {forward(5).item():.3f}')\n",
    "\n",
    "# Training\n",
    "learning_rate = 0.01\n",
    "n_iters = 100\n",
    "\n",
    "for epoch in range(n_iters):\n",
    "    # predict = forward pass\n",
    "    y_pred = forward(X)\n",
    "\n",
    "    # loss\n",
    "    l = loss(Y, y_pred)\n",
    "\n",
    "    # calculate gradients = backward pass\n",
    "    l.backward()\n",
    "\n",
    "    # update weights\n",
    "    #w.data = w.data - learning_rate * w.grad\n",
    "    with torch.no_grad():\n",
    "        w -= learning_rate * w.grad\n",
    "\n",
    "    # zero the gradients after updating\n",
    "    w.grad.zero_()\n",
    "\n",
    "    if epoch % 10 == 0:\n",
    "        print(f'epoch {epoch+1}: w = {w.item():.3f}, loss = {l.item():.8f}')\n",
    "\n",
    "print(f'Prediction after training: f(5) = {forward(5).item():.3f}')"
   ],
   "metadata": {
    "collapsed": false,
    "ExecuteTime": {
     "end_time": "2024-02-18T20:45:20.646328Z",
     "start_time": "2024-02-18T20:45:20.628562Z"
    }
   }
  },
  {
   "cell_type": "markdown",
   "source": [
    "## Add PyTorch loss and optimizer"
   ],
   "metadata": {
    "collapsed": false
   }
  },
  {
   "cell_type": "code",
   "execution_count": 141,
   "outputs": [
    {
     "name": "stdout",
     "output_type": "stream",
     "text": [
      "Prediction before training: f(5) = 0.000\n",
      "epoch  1 : w =  tensor(0.3000, requires_grad=True)  loss =  tensor(30., grad_fn=<MseLossBackward0>)\n",
      "epoch  11 : w =  tensor(1.6653, requires_grad=True)  loss =  tensor(1.1628, grad_fn=<MseLossBackward0>)\n",
      "epoch  21 : w =  tensor(1.9341, requires_grad=True)  loss =  tensor(0.0451, grad_fn=<MseLossBackward0>)\n",
      "epoch  31 : w =  tensor(1.9870, requires_grad=True)  loss =  tensor(0.0017, grad_fn=<MseLossBackward0>)\n",
      "epoch  41 : w =  tensor(1.9974, requires_grad=True)  loss =  tensor(6.7705e-05, grad_fn=<MseLossBackward0>)\n",
      "epoch  51 : w =  tensor(1.9995, requires_grad=True)  loss =  tensor(2.6244e-06, grad_fn=<MseLossBackward0>)\n",
      "epoch  61 : w =  tensor(1.9999, requires_grad=True)  loss =  tensor(1.0176e-07, grad_fn=<MseLossBackward0>)\n",
      "epoch  71 : w =  tensor(2.0000, requires_grad=True)  loss =  tensor(3.9742e-09, grad_fn=<MseLossBackward0>)\n",
      "epoch  81 : w =  tensor(2.0000, requires_grad=True)  loss =  tensor(1.4670e-10, grad_fn=<MseLossBackward0>)\n",
      "epoch  91 : w =  tensor(2.0000, requires_grad=True)  loss =  tensor(5.0768e-12, grad_fn=<MseLossBackward0>)\n",
      "Prediction after training: f(5) = 10.000\n"
     ]
    }
   ],
   "source": [
    "import torch\n",
    "import torch.nn as nn\n",
    "\n",
    "# Linear regression\n",
    "# f = w * x\n",
    "\n",
    "# here : f = 2 * x\n",
    "\n",
    "# 0) Training samples\n",
    "X = torch.tensor([1, 2, 3, 4], dtype=torch.float32)\n",
    "Y = torch.tensor([2, 4, 6, 8], dtype=torch.float32)\n",
    "\n",
    "# 1) Design Model: Weights to optimize and forward function\n",
    "w = torch.tensor(0.0, dtype=torch.float32, requires_grad=True)\n",
    "\n",
    "def forward(x):\n",
    "    return w * x\n",
    "\n",
    "print(f'Prediction before training: f(5) = {forward(5).item():.3f}')\n",
    "\n",
    "# 2) Define loss and optimizer\n",
    "learning_rate = 0.01\n",
    "n_iters = 100\n",
    "\n",
    "# callable function\n",
    "loss = nn.MSELoss()\n",
    "\n",
    "optimizer = torch.optim.SGD([w], lr=learning_rate)\n",
    "\n",
    "# 3) Training loop\n",
    "for epoch in range(n_iters):\n",
    "    # predict = forward pass\n",
    "    y_predicted = forward(X)\n",
    "\n",
    "    # loss\n",
    "    l = loss(Y, y_predicted)\n",
    "\n",
    "    # calculate gradients = backward pass\n",
    "    l.backward()\n",
    "\n",
    "    # update weights\n",
    "    optimizer.step()\n",
    "\n",
    "    # zero the gradients after updating\n",
    "    optimizer.zero_grad()\n",
    "\n",
    "    if epoch % 10 == 0:\n",
    "        print('epoch ', epoch+1, ': w = ', w, ' loss = ', l)\n",
    "\n",
    "print(f'Prediction after training: f(5) = {forward(5).item():.3f}')"
   ],
   "metadata": {
    "collapsed": false,
    "ExecuteTime": {
     "end_time": "2024-02-18T20:50:31.878925Z",
     "start_time": "2024-02-18T20:50:31.810759Z"
    }
   }
  },
  {
   "cell_type": "markdown",
   "source": [
    "## Add PyTorch model for linear regression"
   ],
   "metadata": {
    "collapsed": false
   }
  },
  {
   "cell_type": "code",
   "execution_count": 143,
   "outputs": [
    {
     "name": "stdout",
     "output_type": "stream",
     "text": [
      "#samples: 4, #features: 1\n",
      "Prediction before training: f(5) = 3.273\n",
      "epoch  1 : w =  0.7830569744110107  loss =  tensor(12.7148, grad_fn=<MseLossBackward0>)\n",
      "epoch  11 : w =  1.6041162014007568  loss =  tensor(0.4103, grad_fn=<MseLossBackward0>)\n",
      "epoch  21 : w =  1.7420947551727295  loss =  tensor(0.0872, grad_fn=<MseLossBackward0>)\n",
      "epoch  31 : w =  1.7700257301330566  loss =  tensor(0.0744, grad_fn=<MseLossBackward0>)\n",
      "epoch  41 : w =  1.7800861597061157  loss =  tensor(0.0698, grad_fn=<MseLossBackward0>)\n",
      "epoch  51 : w =  1.7871077060699463  loss =  tensor(0.0658, grad_fn=<MseLossBackward0>)\n",
      "epoch  61 : w =  1.7934808731079102  loss =  tensor(0.0619, grad_fn=<MseLossBackward0>)\n",
      "epoch  71 : w =  1.7995948791503906  loss =  tensor(0.0583, grad_fn=<MseLossBackward0>)\n",
      "epoch  81 : w =  1.8055168390274048  loss =  tensor(0.0549, grad_fn=<MseLossBackward0>)\n",
      "epoch  91 : w =  1.8112618923187256  loss =  tensor(0.0517, grad_fn=<MseLossBackward0>)\n",
      "epoch  101 : w =  1.816837191581726  loss =  tensor(0.0487, grad_fn=<MseLossBackward0>)\n",
      "epoch  111 : w =  1.8222476243972778  loss =  tensor(0.0459, grad_fn=<MseLossBackward0>)\n",
      "epoch  121 : w =  1.8274980783462524  loss =  tensor(0.0432, grad_fn=<MseLossBackward0>)\n",
      "epoch  131 : w =  1.8325936794281006  loss =  tensor(0.0407, grad_fn=<MseLossBackward0>)\n",
      "epoch  141 : w =  1.8375385999679565  loss =  tensor(0.0383, grad_fn=<MseLossBackward0>)\n",
      "epoch  151 : w =  1.8423376083374023  loss =  tensor(0.0361, grad_fn=<MseLossBackward0>)\n",
      "epoch  161 : w =  1.8469947576522827  loss =  tensor(0.0340, grad_fn=<MseLossBackward0>)\n",
      "epoch  171 : w =  1.8515143394470215  loss =  tensor(0.0320, grad_fn=<MseLossBackward0>)\n",
      "epoch  181 : w =  1.8559006452560425  loss =  tensor(0.0302, grad_fn=<MseLossBackward0>)\n",
      "epoch  191 : w =  1.8601571321487427  loss =  tensor(0.0284, grad_fn=<MseLossBackward0>)\n",
      "epoch  201 : w =  1.8642878532409668  loss =  tensor(0.0267, grad_fn=<MseLossBackward0>)\n",
      "epoch  211 : w =  1.86829674243927  loss =  tensor(0.0252, grad_fn=<MseLossBackward0>)\n",
      "epoch  221 : w =  1.8721870183944702  loss =  tensor(0.0237, grad_fn=<MseLossBackward0>)\n",
      "epoch  231 : w =  1.8759623765945435  loss =  tensor(0.0223, grad_fn=<MseLossBackward0>)\n",
      "epoch  241 : w =  1.8796262741088867  loss =  tensor(0.0210, grad_fn=<MseLossBackward0>)\n",
      "epoch  251 : w =  1.8831820487976074  loss =  tensor(0.0198, grad_fn=<MseLossBackward0>)\n",
      "epoch  261 : w =  1.8866328001022339  loss =  tensor(0.0187, grad_fn=<MseLossBackward0>)\n",
      "epoch  271 : w =  1.8899815082550049  loss =  tensor(0.0176, grad_fn=<MseLossBackward0>)\n",
      "epoch  281 : w =  1.8932313919067383  loss =  tensor(0.0166, grad_fn=<MseLossBackward0>)\n",
      "epoch  291 : w =  1.8963851928710938  loss =  tensor(0.0156, grad_fn=<MseLossBackward0>)\n",
      "epoch  301 : w =  1.8994457721710205  loss =  tensor(0.0147, grad_fn=<MseLossBackward0>)\n",
      "epoch  311 : w =  1.9024159908294678  loss =  tensor(0.0138, grad_fn=<MseLossBackward0>)\n",
      "epoch  321 : w =  1.9052985906600952  loss =  tensor(0.0130, grad_fn=<MseLossBackward0>)\n",
      "epoch  331 : w =  1.9080958366394043  loss =  tensor(0.0123, grad_fn=<MseLossBackward0>)\n",
      "epoch  341 : w =  1.9108105897903442  loss =  tensor(0.0116, grad_fn=<MseLossBackward0>)\n",
      "epoch  351 : w =  1.9134451150894165  loss =  tensor(0.0109, grad_fn=<MseLossBackward0>)\n",
      "epoch  361 : w =  1.916001796722412  loss =  tensor(0.0102, grad_fn=<MseLossBackward0>)\n",
      "epoch  371 : w =  1.918483018875122  loss =  tensor(0.0097, grad_fn=<MseLossBackward0>)\n",
      "epoch  381 : w =  1.9208910465240479  loss =  tensor(0.0091, grad_fn=<MseLossBackward0>)\n",
      "epoch  391 : w =  1.9232277870178223  loss =  tensor(0.0086, grad_fn=<MseLossBackward0>)\n",
      "epoch  401 : w =  1.9254955053329468  loss =  tensor(0.0081, grad_fn=<MseLossBackward0>)\n",
      "epoch  411 : w =  1.9276962280273438  loss =  tensor(0.0076, grad_fn=<MseLossBackward0>)\n",
      "epoch  421 : w =  1.9298322200775146  loss =  tensor(0.0072, grad_fn=<MseLossBackward0>)\n",
      "epoch  431 : w =  1.9319047927856445  loss =  tensor(0.0067, grad_fn=<MseLossBackward0>)\n",
      "epoch  441 : w =  1.9339163303375244  loss =  tensor(0.0063, grad_fn=<MseLossBackward0>)\n",
      "epoch  451 : w =  1.935868263244629  loss =  tensor(0.0060, grad_fn=<MseLossBackward0>)\n",
      "epoch  461 : w =  1.93776273727417  loss =  tensor(0.0056, grad_fn=<MseLossBackward0>)\n",
      "epoch  471 : w =  1.9396010637283325  loss =  tensor(0.0053, grad_fn=<MseLossBackward0>)\n",
      "epoch  481 : w =  1.9413851499557495  loss =  tensor(0.0050, grad_fn=<MseLossBackward0>)\n",
      "epoch  491 : w =  1.9431166648864746  loss =  tensor(0.0047, grad_fn=<MseLossBackward0>)\n",
      "epoch  501 : w =  1.9447969198226929  loss =  tensor(0.0044, grad_fn=<MseLossBackward0>)\n",
      "epoch  511 : w =  1.946427583694458  loss =  tensor(0.0042, grad_fn=<MseLossBackward0>)\n",
      "epoch  521 : w =  1.9480100870132446  loss =  tensor(0.0039, grad_fn=<MseLossBackward0>)\n",
      "epoch  531 : w =  1.9495458602905273  loss =  tensor(0.0037, grad_fn=<MseLossBackward0>)\n",
      "epoch  541 : w =  1.9510360956192017  loss =  tensor(0.0035, grad_fn=<MseLossBackward0>)\n",
      "epoch  551 : w =  1.9524824619293213  loss =  tensor(0.0033, grad_fn=<MseLossBackward0>)\n",
      "epoch  561 : w =  1.9538861513137817  loss =  tensor(0.0031, grad_fn=<MseLossBackward0>)\n",
      "epoch  571 : w =  1.955248236656189  loss =  tensor(0.0029, grad_fn=<MseLossBackward0>)\n",
      "epoch  581 : w =  1.9565701484680176  loss =  tensor(0.0027, grad_fn=<MseLossBackward0>)\n",
      "epoch  591 : w =  1.9578529596328735  loss =  tensor(0.0026, grad_fn=<MseLossBackward0>)\n",
      "epoch  601 : w =  1.9590978622436523  loss =  tensor(0.0024, grad_fn=<MseLossBackward0>)\n",
      "epoch  611 : w =  1.9603060483932495  loss =  tensor(0.0023, grad_fn=<MseLossBackward0>)\n",
      "epoch  621 : w =  1.961478590965271  loss =  tensor(0.0022, grad_fn=<MseLossBackward0>)\n",
      "epoch  631 : w =  1.9626166820526123  loss =  tensor(0.0020, grad_fn=<MseLossBackward0>)\n",
      "epoch  641 : w =  1.9637209177017212  loss =  tensor(0.0019, grad_fn=<MseLossBackward0>)\n",
      "epoch  651 : w =  1.9647924900054932  loss =  tensor(0.0018, grad_fn=<MseLossBackward0>)\n",
      "epoch  661 : w =  1.9658324718475342  loss =  tensor(0.0017, grad_fn=<MseLossBackward0>)\n",
      "epoch  671 : w =  1.966841697692871  loss =  tensor(0.0016, grad_fn=<MseLossBackward0>)\n",
      "epoch  681 : w =  1.9678211212158203  loss =  tensor(0.0015, grad_fn=<MseLossBackward0>)\n",
      "epoch  691 : w =  1.9687716960906982  loss =  tensor(0.0014, grad_fn=<MseLossBackward0>)\n",
      "epoch  701 : w =  1.9696941375732422  loss =  tensor(0.0013, grad_fn=<MseLossBackward0>)\n",
      "epoch  711 : w =  1.970589280128479  loss =  tensor(0.0013, grad_fn=<MseLossBackward0>)\n",
      "epoch  721 : w =  1.971458077430725  loss =  tensor(0.0012, grad_fn=<MseLossBackward0>)\n",
      "epoch  731 : w =  1.9723011255264282  loss =  tensor(0.0011, grad_fn=<MseLossBackward0>)\n",
      "epoch  741 : w =  1.9731192588806152  loss =  tensor(0.0010, grad_fn=<MseLossBackward0>)\n",
      "epoch  751 : w =  1.9739131927490234  loss =  tensor(0.0010, grad_fn=<MseLossBackward0>)\n",
      "epoch  761 : w =  1.9746840000152588  loss =  tensor(0.0009, grad_fn=<MseLossBackward0>)\n",
      "epoch  771 : w =  1.9754317998886108  loss =  tensor(0.0009, grad_fn=<MseLossBackward0>)\n",
      "epoch  781 : w =  1.9761574268341064  loss =  tensor(0.0008, grad_fn=<MseLossBackward0>)\n",
      "epoch  791 : w =  1.9768617153167725  loss =  tensor(0.0008, grad_fn=<MseLossBackward0>)\n",
      "epoch  801 : w =  1.9775452613830566  loss =  tensor(0.0007, grad_fn=<MseLossBackward0>)\n",
      "epoch  811 : w =  1.9782085418701172  loss =  tensor(0.0007, grad_fn=<MseLossBackward0>)\n",
      "epoch  821 : w =  1.9788522720336914  loss =  tensor(0.0006, grad_fn=<MseLossBackward0>)\n",
      "epoch  831 : w =  1.9794769287109375  loss =  tensor(0.0006, grad_fn=<MseLossBackward0>)\n",
      "epoch  841 : w =  1.9800831079483032  loss =  tensor(0.0006, grad_fn=<MseLossBackward0>)\n",
      "epoch  851 : w =  1.9806714057922363  loss =  tensor(0.0005, grad_fn=<MseLossBackward0>)\n",
      "epoch  861 : w =  1.981242299079895  loss =  tensor(0.0005, grad_fn=<MseLossBackward0>)\n",
      "epoch  871 : w =  1.9817965030670166  loss =  tensor(0.0005, grad_fn=<MseLossBackward0>)\n",
      "epoch  881 : w =  1.9823341369628906  loss =  tensor(0.0005, grad_fn=<MseLossBackward0>)\n",
      "epoch  891 : w =  1.982856035232544  loss =  tensor(0.0004, grad_fn=<MseLossBackward0>)\n",
      "epoch  901 : w =  1.9833623170852661  loss =  tensor(0.0004, grad_fn=<MseLossBackward0>)\n",
      "epoch  911 : w =  1.983853816986084  loss =  tensor(0.0004, grad_fn=<MseLossBackward0>)\n",
      "epoch  921 : w =  1.9843307733535767  loss =  tensor(0.0004, grad_fn=<MseLossBackward0>)\n",
      "epoch  931 : w =  1.9847935438156128  loss =  tensor(0.0003, grad_fn=<MseLossBackward0>)\n",
      "epoch  941 : w =  1.9852428436279297  loss =  tensor(0.0003, grad_fn=<MseLossBackward0>)\n",
      "epoch  951 : w =  1.9856786727905273  loss =  tensor(0.0003, grad_fn=<MseLossBackward0>)\n",
      "epoch  961 : w =  1.9861016273498535  loss =  tensor(0.0003, grad_fn=<MseLossBackward0>)\n",
      "epoch  971 : w =  1.986512303352356  loss =  tensor(0.0003, grad_fn=<MseLossBackward0>)\n",
      "epoch  981 : w =  1.9869108200073242  loss =  tensor(0.0002, grad_fn=<MseLossBackward0>)\n",
      "epoch  991 : w =  1.987297534942627  loss =  tensor(0.0002, grad_fn=<MseLossBackward0>)\n",
      "Prediction after training: f(5) = 9.975\n"
     ]
    }
   ],
   "source": [
    "# 1) Design model (input, output, forward pass with different layers)\n",
    "# 2) Construct loss and optimizer\n",
    "# 3) Training loop\n",
    "#       - Forward = compute prediction and loss\n",
    "#       - Backward = compute gradients\n",
    "#       - Update weights\n",
    "\n",
    "import torch\n",
    "import torch.nn as nn\n",
    "\n",
    "# Linear regression\n",
    "# f = w * x\n",
    "\n",
    "# here : f = 2 * x\n",
    "\n",
    "# 0) Training samples, watch the shape!\n",
    "X = torch.tensor([[1], [2], [3], [4]], dtype=torch.float32)\n",
    "Y = torch.tensor([[2], [4], [6], [8]], dtype=torch.float32)\n",
    "\n",
    "n_samples, n_features = X.shape\n",
    "print(f'#samples: {n_samples}, #features: {n_features}')\n",
    "# 0) create a test sample\n",
    "X_test = torch.tensor([5], dtype=torch.float32)\n",
    "\n",
    "# 1) Design Model, the model has to implement the forward pass!\n",
    "# Here we can use a built-in model from PyTorch\n",
    "input_size = n_features\n",
    "output_size = n_features\n",
    "\n",
    "# we can call this model with samples X\n",
    "model = nn.Linear(input_size, output_size)\n",
    "\n",
    "'''\n",
    "class LinearRegression(nn.Module):\n",
    "    def __init__(self, input_dim, output_dim):\n",
    "        super(LinearRegression, self).__init__()\n",
    "        # define diferent layers\n",
    "        self.lin = nn.Linear(input_dim, output_dim)\n",
    "\n",
    "    def forward(self, x):\n",
    "        return self.lin(x)\n",
    "\n",
    "model = LinearRegression(input_size, output_size)\n",
    "'''\n",
    "\n",
    "print(f'Prediction before training: f(5) = {model(X_test).item():.3f}')\n",
    "\n",
    "# 2) Define loss and optimizer\n",
    "learning_rate = 0.01\n",
    "n_iters = 1000\n",
    "\n",
    "loss = nn.MSELoss()\n",
    "optimizer = torch.optim.SGD(model.parameters(), lr=learning_rate)\n",
    "\n",
    "# 3) Training loop\n",
    "for epoch in range(n_iters):\n",
    "    # predict = forward pass with our model\n",
    "    y_predicted = model(X)\n",
    "\n",
    "    # loss\n",
    "    l = loss(Y, y_predicted)\n",
    "\n",
    "    # calculate gradients = backward pass\n",
    "    l.backward()\n",
    "\n",
    "    # update weights\n",
    "    optimizer.step()\n",
    "\n",
    "    # zero the gradients after updating\n",
    "    optimizer.zero_grad()\n",
    "\n",
    "    if epoch % 10 == 0:\n",
    "        [w, b] = model.parameters() # unpack parameters\n",
    "        print('epoch ', epoch+1, ': w = ', w[0][0].item(), ' loss = ', l)\n",
    "\n",
    "print(f'Prediction after training: f(5) = {model(X_test).item():.3f}')"
   ],
   "metadata": {
    "collapsed": false,
    "ExecuteTime": {
     "end_time": "2024-02-18T20:51:30.564097Z",
     "start_time": "2024-02-18T20:51:30.393283Z"
    }
   }
  },
  {
   "cell_type": "code",
   "execution_count": null,
   "outputs": [],
   "source": [],
   "metadata": {
    "collapsed": false
   }
  }
 ],
 "metadata": {
  "kernelspec": {
   "display_name": "Python 3",
   "language": "python",
   "name": "python3"
  },
  "language_info": {
   "codemirror_mode": {
    "name": "ipython",
    "version": 2
   },
   "file_extension": ".py",
   "mimetype": "text/x-python",
   "name": "python",
   "nbconvert_exporter": "python",
   "pygments_lexer": "ipython2",
   "version": "2.7.6"
  }
 },
 "nbformat": 4,
 "nbformat_minor": 0
}
