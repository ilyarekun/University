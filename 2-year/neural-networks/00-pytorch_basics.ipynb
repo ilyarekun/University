{
 "cells": [
  {
   "cell_type": "markdown",
   "source": [
    "# Week 00 - Elementary of PyTorch"
   ],
   "metadata": {
    "collapsed": false
   }
  },
  {
   "cell_type": "code",
   "execution_count": 54,
   "outputs": [],
   "source": [
    "import torch\n",
    "import numpy as np"
   ],
   "metadata": {
    "collapsed": false,
    "ExecuteTime": {
     "end_time": "2024-02-11T21:36:29.698761Z",
     "start_time": "2024-02-11T21:36:29.695738Z"
    }
   }
  },
  {
   "cell_type": "code",
   "execution_count": 55,
   "outputs": [
    {
     "name": "stdout",
     "output_type": "stream",
     "text": [
      "Scalar Tensor (uninitialized):\n",
      "tensor([0.])\n",
      "\n",
      "Vector Tensor (uninitialized):\n",
      "tensor([0., 0., 0.])\n",
      "\n",
      "Matrix Tensor (uninitialized):\n",
      "tensor([[0., 0., 0.],\n",
      "        [0., 0., 0.]])\n",
      "\n",
      "Tensor (3D) Tensor (uninitialized):\n",
      "tensor([[[0., 0., 0.],\n",
      "         [0., 0., 0.]],\n",
      "\n",
      "        [[0., 0., 0.],\n",
      "         [0., 0., 0.]]])\n"
     ]
    }
   ],
   "source": [
    "# Everything in PyTorch is based on Tensor operations.\n",
    "# A tensor can have different dimensions: scalar, vector, matrix, tensor\n",
    "\n",
    "# torch.empty(size): uninitialized\n",
    "x = torch.empty(1)  # scalar\n",
    "print(\"Scalar Tensor (uninitialized):\")\n",
    "print(x)\n",
    "x = torch.empty(3)  # vector, 1D\n",
    "print(\"\\nVector Tensor (uninitialized):\")\n",
    "print(x)\n",
    "x = torch.empty(2, 3)  # matrix, 2D\n",
    "print(\"\\nMatrix Tensor (uninitialized):\")\n",
    "print(x)\n",
    "x = torch.empty(2, 2, 3)  # tensor, 3 dimensions\n",
    "# x = torch.empty(2, 2, 2, 3)  # tensor, 4 dimensions\n",
    "print(\"\\nTensor (3D) Tensor (uninitialized):\")\n",
    "print(x)"
   ],
   "metadata": {
    "collapsed": false,
    "ExecuteTime": {
     "end_time": "2024-02-11T21:36:29.827660Z",
     "start_time": "2024-02-11T21:36:29.823947Z"
    }
   }
  },
  {
   "cell_type": "code",
   "execution_count": 56,
   "outputs": [
    {
     "name": "stdout",
     "output_type": "stream",
     "text": [
      "\n",
      "Random Tensor (Uniform Distribution):\n",
      "tensor([[0.8072, 0.0891, 0.7451],\n",
      "        [0.5499, 0.1017, 0.5951],\n",
      "        [0.5026, 0.4490, 0.4903],\n",
      "        [0.3565, 0.3280, 0.3950],\n",
      "        [0.0237, 0.7661, 0.0307]])\n",
      "\n",
      "Tensor Filled with Zeros:\n",
      "tensor([[0., 0., 0.],\n",
      "        [0., 0., 0.],\n",
      "        [0., 0., 0.],\n",
      "        [0., 0., 0.],\n",
      "        [0., 0., 0.]])\n"
     ]
    }
   ],
   "source": [
    "# torch.rand(size): random numbers [0, 1]\n",
    "x = torch.rand(5, 3)\n",
    "print(\"\\nRandom Tensor (Uniform Distribution):\")\n",
    "print(x)\n",
    "\n",
    "# torch.zeros(size), fill with 0\n",
    "# torch.ones(size), fill with 1\n",
    "x = torch.zeros(5, 3)\n",
    "print(\"\\nTensor Filled with Zeros:\")\n",
    "print(x)"
   ],
   "metadata": {
    "collapsed": false,
    "ExecuteTime": {
     "end_time": "2024-02-11T21:36:29.992544Z",
     "start_time": "2024-02-11T21:36:29.983676Z"
    }
   }
  },
  {
   "cell_type": "code",
   "execution_count": 57,
   "outputs": [
    {
     "name": "stdout",
     "output_type": "stream",
     "text": [
      "\n",
      "Size of Tensor:\n",
      "torch.Size([5, 3])\n",
      "\n",
      "Data Type of Tensor:\n",
      "torch.float32\n"
     ]
    }
   ],
   "source": [
    "# check size\n",
    "print(\"\\nSize of Tensor:\")\n",
    "print(x.size())\n",
    "\n",
    "# check data type\n",
    "print(\"\\nData Type of Tensor:\")\n",
    "print(x.dtype)"
   ],
   "metadata": {
    "collapsed": false,
    "ExecuteTime": {
     "end_time": "2024-02-11T21:36:30.139436Z",
     "start_time": "2024-02-11T21:36:30.136035Z"
    }
   }
  },
  {
   "cell_type": "code",
   "execution_count": 58,
   "outputs": [
    {
     "name": "stdout",
     "output_type": "stream",
     "text": [
      "\n",
      "Tensor with Specified Data Type (float16):\n",
      "tensor([[0., 0., 0.],\n",
      "        [0., 0., 0.],\n",
      "        [0., 0., 0.],\n",
      "        [0., 0., 0.],\n",
      "        [0., 0., 0.]], dtype=torch.float16)\n",
      "\n",
      "Data Type of Tensor (after specifying):\n",
      "torch.float16\n"
     ]
    }
   ],
   "source": [
    "# specify types, float32 default\n",
    "x = torch.zeros(5, 3, dtype=torch.float16)\n",
    "print(\"\\nTensor with Specified Data Type (float16):\")\n",
    "print(x)\n",
    "\n",
    "# check type\n",
    "print(\"\\nData Type of Tensor (after specifying):\")\n",
    "print(x.dtype)"
   ],
   "metadata": {
    "collapsed": false,
    "ExecuteTime": {
     "end_time": "2024-02-11T21:36:30.295185Z",
     "start_time": "2024-02-11T21:36:30.291912Z"
    }
   }
  },
  {
   "cell_type": "code",
   "execution_count": 59,
   "outputs": [
    {
     "name": "stdout",
     "output_type": "stream",
     "text": [
      "\n",
      "Tensor Constructed from Data:\n",
      "torch.Size([2])\n"
     ]
    }
   ],
   "source": [
    "# construct from data\n",
    "x = torch.tensor([5.5, 3])\n",
    "print(\"\\nTensor Constructed from Data:\")\n",
    "print(x.size())"
   ],
   "metadata": {
    "collapsed": false,
    "ExecuteTime": {
     "end_time": "2024-02-11T21:36:30.442241Z",
     "start_time": "2024-02-11T21:36:30.438647Z"
    }
   }
  },
  {
   "cell_type": "code",
   "execution_count": 60,
   "outputs": [
    {
     "data": {
      "text/plain": "tensor([5.5000, 3.0000], requires_grad=True)"
     },
     "execution_count": 60,
     "metadata": {},
     "output_type": "execute_result"
    }
   ],
   "source": [
    "# requires_grad argument\n",
    "# This will tell PyTorch that it will need to calculate the gradients for this tensor\n",
    "# later in your optimization steps\n",
    "# i.e. this is a variable in your model that you want to optimize\n",
    "x = torch.tensor([5.5, 3], requires_grad=True)\n",
    "x"
   ],
   "metadata": {
    "collapsed": false,
    "ExecuteTime": {
     "end_time": "2024-02-11T21:36:30.594839Z",
     "start_time": "2024-02-11T21:36:30.590742Z"
    }
   }
  },
  {
   "cell_type": "code",
   "execution_count": 61,
   "outputs": [
    {
     "name": "stdout",
     "output_type": "stream",
     "text": [
      "\n",
      "Element-wise Addition:\n",
      "tensor([[1.4420, 0.4001],\n",
      "        [1.7059, 1.3165]])\n",
      "\n",
      "Subtraction:\n",
      "tensor([[ 0.3633, -0.0599],\n",
      "        [-0.2216,  0.2659]])\n",
      "\n",
      "Multiplication:\n",
      "tensor([[0.4868, 0.0391],\n",
      "        [0.7153, 0.4156]])\n",
      "\n",
      "Division:\n",
      "tensor([[1.6735, 0.7397],\n",
      "        [0.7701, 1.5062]])\n"
     ]
    }
   ],
   "source": [
    "# Operations\n",
    "y = torch.rand(2, 2)\n",
    "x = torch.rand(2, 2)\n",
    "\n",
    "# elementwise addition\n",
    "z = x + y\n",
    "print(\"\\nElement-wise Addition:\")\n",
    "print(z)\n",
    "\n",
    "# in-place addition, everything with a trailing underscore is an inplace operation\n",
    "# i.e. it will modify the variable\n",
    "# y.add_(x)\n",
    "\n",
    "# subtraction\n",
    "z = x - y\n",
    "print(\"\\nSubtraction:\")\n",
    "print(z)\n",
    "\n",
    "# multiplication\n",
    "z = x * y\n",
    "print(\"\\nMultiplication:\")\n",
    "print(z)\n",
    "\n",
    "# division\n",
    "z = x / y\n",
    "print(\"\\nDivision:\")\n",
    "print(z)"
   ],
   "metadata": {
    "collapsed": false,
    "ExecuteTime": {
     "end_time": "2024-02-11T21:36:30.748741Z",
     "start_time": "2024-02-11T21:36:30.744759Z"
    }
   }
  },
  {
   "cell_type": "code",
   "execution_count": 62,
   "outputs": [
    {
     "name": "stdout",
     "output_type": "stream",
     "text": [
      "\n",
      "Sliced Tensor:\n",
      "tensor([[0.6709, 0.8416, 0.5045],\n",
      "        [0.6600, 0.6023, 0.0870],\n",
      "        [0.2365, 0.3301, 0.1092],\n",
      "        [0.7285, 0.9771, 0.3402],\n",
      "        [0.1510, 0.2778, 0.5790]])\n",
      "\n",
      "Sliced Column:\n",
      "tensor([0.6709, 0.6600, 0.2365, 0.7285, 0.1510])\n",
      "\n",
      "Sliced Row:\n",
      "tensor([0.6600, 0.6023, 0.0870])\n",
      "\n",
      "Single Element:\n",
      "tensor(0.6023)\n",
      "\n",
      "Value of Single Element:\n",
      "0.6023251414299011\n"
     ]
    }
   ],
   "source": [
    "# Slicing\n",
    "x = torch.rand(5, 3)\n",
    "print(\"\\nSliced Tensor:\")\n",
    "print(x)\n",
    "print(\"\\nSliced Column:\")\n",
    "print(x[:, 0])  # all rows, column 0\n",
    "print(\"\\nSliced Row:\")\n",
    "print(x[1, :])  # row 1, all columns\n",
    "print(\"\\nSingle Element:\")\n",
    "print(x[1, 1])  # element at 1, 1\n",
    "\n",
    "# Get the actual value if only 1 element in your tensor\n",
    "print(\"\\nValue of Single Element:\")\n",
    "print(x[1, 1].item())"
   ],
   "metadata": {
    "collapsed": false,
    "ExecuteTime": {
     "end_time": "2024-02-11T21:36:30.898989Z",
     "start_time": "2024-02-11T21:36:30.895102Z"
    }
   }
  },
  {
   "cell_type": "code",
   "execution_count": 63,
   "outputs": [
    {
     "name": "stdout",
     "output_type": "stream",
     "text": [
      "\n",
      "Reshaping Tensors:\n",
      "torch.Size([4, 4]) torch.Size([16]) torch.Size([2, 8])\n"
     ]
    }
   ],
   "source": [
    "# Reshape with torch.view()\n",
    "x = torch.randn(4, 4)\n",
    "y = x.view(16)\n",
    "z = x.view(-1, 8)  # the size -1 is inferred from other dimensions\n",
    "# if -1, PyTorch will automatically determine the necessary size\n",
    "print(\"\\nReshaping Tensors:\")\n",
    "print(x.size(), y.size(), z.size())"
   ],
   "metadata": {
    "collapsed": false,
    "ExecuteTime": {
     "end_time": "2024-02-11T21:36:31.048123Z",
     "start_time": "2024-02-11T21:36:31.043646Z"
    }
   }
  },
  {
   "cell_type": "code",
   "execution_count": 64,
   "outputs": [
    {
     "name": "stdout",
     "output_type": "stream",
     "text": [
      "\n",
      "Tensor Converted to NumPy Array:\n",
      "tensor([1., 1., 1., 1., 1.])\n",
      "\n",
      "NumPy Array:\n",
      "[1. 1. 1. 1. 1.]\n",
      "\n",
      "Type of Converted Array:\n",
      "<class 'numpy.ndarray'>\n"
     ]
    }
   ],
   "source": [
    "# Numpy\n",
    "# Converting a Torch Tensor to a NumPy array and vice versa is very easy\n",
    "a = torch.ones(5)\n",
    "print(\"\\nTensor Converted to NumPy Array:\")\n",
    "print(a)\n",
    "\n",
    "# torch to numpy with .numpy()\n",
    "b = a.numpy()\n",
    "print(\"\\nNumPy Array:\")\n",
    "print(b)\n",
    "print(\"\\nType of Converted Array:\")\n",
    "print(type(b))"
   ],
   "metadata": {
    "collapsed": false,
    "ExecuteTime": {
     "end_time": "2024-02-11T21:36:31.196935Z",
     "start_time": "2024-02-11T21:36:31.191779Z"
    }
   }
  },
  {
   "cell_type": "code",
   "execution_count": 65,
   "outputs": [
    {
     "name": "stdout",
     "output_type": "stream",
     "text": [
      "\n",
      "Modified Tensor (after adding 1):\n",
      "tensor([2., 2., 2., 2., 2.])\n",
      "\n",
      "Corresponding NumPy Array (also modified):\n",
      "[2. 2. 2. 2. 2.]\n",
      "\n",
      "NumPy Array Converted to Tensor:\n",
      "[1. 1. 1. 1. 1.]\n",
      "tensor([1., 1., 1., 1., 1.], dtype=torch.float64)\n",
      "\n",
      "Modified NumPy Array (after adding 1):\n",
      "[2. 2. 2. 2. 2.]\n",
      "\n",
      "Corresponding Tensor (also modified):\n",
      "tensor([2., 2., 2., 2., 2.], dtype=torch.float64)\n"
     ]
    }
   ],
   "source": [
    "# Careful: If the Tensor is on the CPU (not the GPU),\n",
    "# both objects will share the same memory location, so changing one\n",
    "# will also change the other\n",
    "a.add_(1)\n",
    "print(\"\\nModified Tensor (after adding 1):\")\n",
    "print(a)\n",
    "print(\"\\nCorresponding NumPy Array (also modified):\")\n",
    "print(b)\n",
    "\n",
    "# numpy to torch with .from_numpy(x)\n",
    "a = np.ones(5)\n",
    "b = torch.from_numpy(a)\n",
    "print(\"\\nNumPy Array Converted to Tensor:\")\n",
    "print(a)\n",
    "print(b)\n",
    "\n",
    "# again be careful when modifying\n",
    "a += 1\n",
    "print(\"\\nModified NumPy Array (after adding 1):\")\n",
    "print(a)\n",
    "print(\"\\nCorresponding Tensor (also modified):\")\n",
    "print(b)"
   ],
   "metadata": {
    "collapsed": false,
    "ExecuteTime": {
     "end_time": "2024-02-11T21:36:31.356316Z",
     "start_time": "2024-02-11T21:36:31.352428Z"
    }
   }
  },
  {
   "cell_type": "code",
   "execution_count": 66,
   "outputs": [],
   "source": [
    "# by default all tensors are created on the CPU,\n",
    "# but you can also move them to the GPU (only if it's available)\n",
    "if torch.cuda.is_available():\n",
    "    device = torch.device(\"cuda\")  # a CUDA device object\n",
    "    print(device)\n",
    "    y = torch.ones_like(x, device=device)  # directly create a tensor on GPU\n",
    "    x = x.to(device)  # or just use strings ``.to(\"cuda\")``\n",
    "    z = x + y\n",
    "    print(\"\\nTensor on GPU:\")\n",
    "    print(z)\n",
    "    # move to CPU again\n",
    "    z.to(\"cpu\")  # ``.to`` can also change dtype together!\n",
    "    print(\"\\nTensor on CPU:\")\n",
    "    print(z)\n"
   ],
   "metadata": {
    "collapsed": false,
    "ExecuteTime": {
     "end_time": "2024-02-11T21:36:31.507900Z",
     "start_time": "2024-02-11T21:36:31.504293Z"
    }
   }
  },
  {
   "cell_type": "code",
   "execution_count": 67,
   "outputs": [
    {
     "name": "stdout",
     "output_type": "stream",
     "text": [
      "False\n",
      "True\n"
     ]
    }
   ],
   "source": [
    "# Check cuda or apple silicon\n",
    "print(torch.cuda.is_available())\n",
    "print(torch.backends.mps.is_available())"
   ],
   "metadata": {
    "collapsed": false,
    "ExecuteTime": {
     "end_time": "2024-02-11T21:36:31.672016Z",
     "start_time": "2024-02-11T21:36:31.668254Z"
    }
   }
  }
 ],
 "metadata": {
  "kernelspec": {
   "display_name": "Python 3",
   "language": "python",
   "name": "python3"
  },
  "language_info": {
   "codemirror_mode": {
    "name": "ipython",
    "version": 2
   },
   "file_extension": ".py",
   "mimetype": "text/x-python",
   "name": "python",
   "nbconvert_exporter": "python",
   "pygments_lexer": "ipython2",
   "version": "2.7.6"
  }
 },
 "nbformat": 4,
 "nbformat_minor": 0
}
